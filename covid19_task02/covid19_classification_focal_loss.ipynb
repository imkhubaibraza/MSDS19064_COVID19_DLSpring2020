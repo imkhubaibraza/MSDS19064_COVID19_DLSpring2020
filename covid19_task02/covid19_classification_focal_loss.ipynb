{
  "nbformat": 4,
  "nbformat_minor": 0,
  "metadata": {
    "colab": {
      "name": "Final covid task-02 task.ipynb",
      "provenance": [],
      "collapsed_sections": [
        "VMh5WpfwEolM",
        "7vj9ydlWs0m8"
      ],
      "toc_visible": true,
      "include_colab_link": true
    },
    "kernelspec": {
      "name": "python3",
      "display_name": "Python 3"
    },
    "accelerator": "GPU",
    "widgets": {
      "application/vnd.jupyter.widget-state+json": {
        "77df5982d7a348a5ab90ea75ae725f7f": {
          "model_module": "@jupyter-widgets/controls",
          "model_name": "HBoxModel",
          "state": {
            "_view_name": "HBoxView",
            "_dom_classes": [],
            "_model_name": "HBoxModel",
            "_view_module": "@jupyter-widgets/controls",
            "_model_module_version": "1.5.0",
            "_view_count": null,
            "_view_module_version": "1.5.0",
            "box_style": "",
            "layout": "IPY_MODEL_dc029182470740b0a9df49c5287706c6",
            "_model_module": "@jupyter-widgets/controls",
            "children": [
              "IPY_MODEL_28dba89cdffa4d9aa326455e53b29781",
              "IPY_MODEL_0378a6de90b349ef8a3f2cacb4ae0c65"
            ]
          }
        },
        "dc029182470740b0a9df49c5287706c6": {
          "model_module": "@jupyter-widgets/base",
          "model_name": "LayoutModel",
          "state": {
            "_view_name": "LayoutView",
            "grid_template_rows": null,
            "right": null,
            "justify_content": null,
            "_view_module": "@jupyter-widgets/base",
            "overflow": null,
            "_model_module_version": "1.2.0",
            "_view_count": null,
            "flex_flow": null,
            "width": null,
            "min_width": null,
            "border": null,
            "align_items": null,
            "bottom": null,
            "_model_module": "@jupyter-widgets/base",
            "top": null,
            "grid_column": null,
            "overflow_y": null,
            "overflow_x": null,
            "grid_auto_flow": null,
            "grid_area": null,
            "grid_template_columns": null,
            "flex": null,
            "_model_name": "LayoutModel",
            "justify_items": null,
            "grid_row": null,
            "max_height": null,
            "align_content": null,
            "visibility": null,
            "align_self": null,
            "height": null,
            "min_height": null,
            "padding": null,
            "grid_auto_rows": null,
            "grid_gap": null,
            "max_width": null,
            "order": null,
            "_view_module_version": "1.2.0",
            "grid_template_areas": null,
            "object_position": null,
            "object_fit": null,
            "grid_auto_columns": null,
            "margin": null,
            "display": null,
            "left": null
          }
        },
        "28dba89cdffa4d9aa326455e53b29781": {
          "model_module": "@jupyter-widgets/controls",
          "model_name": "IntProgressModel",
          "state": {
            "_view_name": "ProgressView",
            "style": "IPY_MODEL_fcfcaf21a4624c91a9731614d675cf83",
            "_dom_classes": [],
            "description": "100%",
            "_model_name": "IntProgressModel",
            "bar_style": "success",
            "max": 46827520,
            "_view_module": "@jupyter-widgets/controls",
            "_model_module_version": "1.5.0",
            "value": 46827520,
            "_view_count": null,
            "_view_module_version": "1.5.0",
            "orientation": "horizontal",
            "min": 0,
            "description_tooltip": null,
            "_model_module": "@jupyter-widgets/controls",
            "layout": "IPY_MODEL_7cd7251d9fb34a63a31d38b58cf3aa0a"
          }
        },
        "0378a6de90b349ef8a3f2cacb4ae0c65": {
          "model_module": "@jupyter-widgets/controls",
          "model_name": "HTMLModel",
          "state": {
            "_view_name": "HTMLView",
            "style": "IPY_MODEL_a1bb8ac270a148099d3359fbb9c48559",
            "_dom_classes": [],
            "description": "",
            "_model_name": "HTMLModel",
            "placeholder": "​",
            "_view_module": "@jupyter-widgets/controls",
            "_model_module_version": "1.5.0",
            "value": " 44.7M/44.7M [00:00&lt;00:00, 82.7MB/s]",
            "_view_count": null,
            "_view_module_version": "1.5.0",
            "description_tooltip": null,
            "_model_module": "@jupyter-widgets/controls",
            "layout": "IPY_MODEL_b3d396adbe6e4b2ab171b55995b80ea5"
          }
        },
        "fcfcaf21a4624c91a9731614d675cf83": {
          "model_module": "@jupyter-widgets/controls",
          "model_name": "ProgressStyleModel",
          "state": {
            "_view_name": "StyleView",
            "_model_name": "ProgressStyleModel",
            "description_width": "initial",
            "_view_module": "@jupyter-widgets/base",
            "_model_module_version": "1.5.0",
            "_view_count": null,
            "_view_module_version": "1.2.0",
            "bar_color": null,
            "_model_module": "@jupyter-widgets/controls"
          }
        },
        "7cd7251d9fb34a63a31d38b58cf3aa0a": {
          "model_module": "@jupyter-widgets/base",
          "model_name": "LayoutModel",
          "state": {
            "_view_name": "LayoutView",
            "grid_template_rows": null,
            "right": null,
            "justify_content": null,
            "_view_module": "@jupyter-widgets/base",
            "overflow": null,
            "_model_module_version": "1.2.0",
            "_view_count": null,
            "flex_flow": null,
            "width": null,
            "min_width": null,
            "border": null,
            "align_items": null,
            "bottom": null,
            "_model_module": "@jupyter-widgets/base",
            "top": null,
            "grid_column": null,
            "overflow_y": null,
            "overflow_x": null,
            "grid_auto_flow": null,
            "grid_area": null,
            "grid_template_columns": null,
            "flex": null,
            "_model_name": "LayoutModel",
            "justify_items": null,
            "grid_row": null,
            "max_height": null,
            "align_content": null,
            "visibility": null,
            "align_self": null,
            "height": null,
            "min_height": null,
            "padding": null,
            "grid_auto_rows": null,
            "grid_gap": null,
            "max_width": null,
            "order": null,
            "_view_module_version": "1.2.0",
            "grid_template_areas": null,
            "object_position": null,
            "object_fit": null,
            "grid_auto_columns": null,
            "margin": null,
            "display": null,
            "left": null
          }
        },
        "a1bb8ac270a148099d3359fbb9c48559": {
          "model_module": "@jupyter-widgets/controls",
          "model_name": "DescriptionStyleModel",
          "state": {
            "_view_name": "StyleView",
            "_model_name": "DescriptionStyleModel",
            "description_width": "",
            "_view_module": "@jupyter-widgets/base",
            "_model_module_version": "1.5.0",
            "_view_count": null,
            "_view_module_version": "1.2.0",
            "_model_module": "@jupyter-widgets/controls"
          }
        },
        "b3d396adbe6e4b2ab171b55995b80ea5": {
          "model_module": "@jupyter-widgets/base",
          "model_name": "LayoutModel",
          "state": {
            "_view_name": "LayoutView",
            "grid_template_rows": null,
            "right": null,
            "justify_content": null,
            "_view_module": "@jupyter-widgets/base",
            "overflow": null,
            "_model_module_version": "1.2.0",
            "_view_count": null,
            "flex_flow": null,
            "width": null,
            "min_width": null,
            "border": null,
            "align_items": null,
            "bottom": null,
            "_model_module": "@jupyter-widgets/base",
            "top": null,
            "grid_column": null,
            "overflow_y": null,
            "overflow_x": null,
            "grid_auto_flow": null,
            "grid_area": null,
            "grid_template_columns": null,
            "flex": null,
            "_model_name": "LayoutModel",
            "justify_items": null,
            "grid_row": null,
            "max_height": null,
            "align_content": null,
            "visibility": null,
            "align_self": null,
            "height": null,
            "min_height": null,
            "padding": null,
            "grid_auto_rows": null,
            "grid_gap": null,
            "max_width": null,
            "order": null,
            "_view_module_version": "1.2.0",
            "grid_template_areas": null,
            "object_position": null,
            "object_fit": null,
            "grid_auto_columns": null,
            "margin": null,
            "display": null,
            "left": null
          }
        },
        "f63d746588e3420992a7ddc1fdc09b39": {
          "model_module": "@jupyter-widgets/controls",
          "model_name": "HBoxModel",
          "state": {
            "_view_name": "HBoxView",
            "_dom_classes": [],
            "_model_name": "HBoxModel",
            "_view_module": "@jupyter-widgets/controls",
            "_model_module_version": "1.5.0",
            "_view_count": null,
            "_view_module_version": "1.5.0",
            "box_style": "",
            "layout": "IPY_MODEL_9fed239db19845789538698c81a7d136",
            "_model_module": "@jupyter-widgets/controls",
            "children": [
              "IPY_MODEL_b60acac7fee64416aaee604819d85fca",
              "IPY_MODEL_8f90f69fc43a4bdba10f615c105a3f43"
            ]
          }
        },
        "9fed239db19845789538698c81a7d136": {
          "model_module": "@jupyter-widgets/base",
          "model_name": "LayoutModel",
          "state": {
            "_view_name": "LayoutView",
            "grid_template_rows": null,
            "right": null,
            "justify_content": null,
            "_view_module": "@jupyter-widgets/base",
            "overflow": null,
            "_model_module_version": "1.2.0",
            "_view_count": null,
            "flex_flow": null,
            "width": null,
            "min_width": null,
            "border": null,
            "align_items": null,
            "bottom": null,
            "_model_module": "@jupyter-widgets/base",
            "top": null,
            "grid_column": null,
            "overflow_y": null,
            "overflow_x": null,
            "grid_auto_flow": null,
            "grid_area": null,
            "grid_template_columns": null,
            "flex": null,
            "_model_name": "LayoutModel",
            "justify_items": null,
            "grid_row": null,
            "max_height": null,
            "align_content": null,
            "visibility": null,
            "align_self": null,
            "height": null,
            "min_height": null,
            "padding": null,
            "grid_auto_rows": null,
            "grid_gap": null,
            "max_width": null,
            "order": null,
            "_view_module_version": "1.2.0",
            "grid_template_areas": null,
            "object_position": null,
            "object_fit": null,
            "grid_auto_columns": null,
            "margin": null,
            "display": null,
            "left": null
          }
        },
        "b60acac7fee64416aaee604819d85fca": {
          "model_module": "@jupyter-widgets/controls",
          "model_name": "IntProgressModel",
          "state": {
            "_view_name": "ProgressView",
            "style": "IPY_MODEL_dd5159c3fe9c477b96eae0ab0c6476e1",
            "_dom_classes": [],
            "description": "100%",
            "_model_name": "IntProgressModel",
            "bar_style": "success",
            "max": 553433881,
            "_view_module": "@jupyter-widgets/controls",
            "_model_module_version": "1.5.0",
            "value": 553433881,
            "_view_count": null,
            "_view_module_version": "1.5.0",
            "orientation": "horizontal",
            "min": 0,
            "description_tooltip": null,
            "_model_module": "@jupyter-widgets/controls",
            "layout": "IPY_MODEL_44c9b6e51acd40a980b2adc7fffd67e2"
          }
        },
        "8f90f69fc43a4bdba10f615c105a3f43": {
          "model_module": "@jupyter-widgets/controls",
          "model_name": "HTMLModel",
          "state": {
            "_view_name": "HTMLView",
            "style": "IPY_MODEL_6af55be682494e04929e964eb18ecb28",
            "_dom_classes": [],
            "description": "",
            "_model_name": "HTMLModel",
            "placeholder": "​",
            "_view_module": "@jupyter-widgets/controls",
            "_model_module_version": "1.5.0",
            "value": " 528M/528M [00:40&lt;00:00, 13.6MB/s]",
            "_view_count": null,
            "_view_module_version": "1.5.0",
            "description_tooltip": null,
            "_model_module": "@jupyter-widgets/controls",
            "layout": "IPY_MODEL_275f0aa37435498598f6c84ad4b12e52"
          }
        },
        "dd5159c3fe9c477b96eae0ab0c6476e1": {
          "model_module": "@jupyter-widgets/controls",
          "model_name": "ProgressStyleModel",
          "state": {
            "_view_name": "StyleView",
            "_model_name": "ProgressStyleModel",
            "description_width": "initial",
            "_view_module": "@jupyter-widgets/base",
            "_model_module_version": "1.5.0",
            "_view_count": null,
            "_view_module_version": "1.2.0",
            "bar_color": null,
            "_model_module": "@jupyter-widgets/controls"
          }
        },
        "44c9b6e51acd40a980b2adc7fffd67e2": {
          "model_module": "@jupyter-widgets/base",
          "model_name": "LayoutModel",
          "state": {
            "_view_name": "LayoutView",
            "grid_template_rows": null,
            "right": null,
            "justify_content": null,
            "_view_module": "@jupyter-widgets/base",
            "overflow": null,
            "_model_module_version": "1.2.0",
            "_view_count": null,
            "flex_flow": null,
            "width": null,
            "min_width": null,
            "border": null,
            "align_items": null,
            "bottom": null,
            "_model_module": "@jupyter-widgets/base",
            "top": null,
            "grid_column": null,
            "overflow_y": null,
            "overflow_x": null,
            "grid_auto_flow": null,
            "grid_area": null,
            "grid_template_columns": null,
            "flex": null,
            "_model_name": "LayoutModel",
            "justify_items": null,
            "grid_row": null,
            "max_height": null,
            "align_content": null,
            "visibility": null,
            "align_self": null,
            "height": null,
            "min_height": null,
            "padding": null,
            "grid_auto_rows": null,
            "grid_gap": null,
            "max_width": null,
            "order": null,
            "_view_module_version": "1.2.0",
            "grid_template_areas": null,
            "object_position": null,
            "object_fit": null,
            "grid_auto_columns": null,
            "margin": null,
            "display": null,
            "left": null
          }
        },
        "6af55be682494e04929e964eb18ecb28": {
          "model_module": "@jupyter-widgets/controls",
          "model_name": "DescriptionStyleModel",
          "state": {
            "_view_name": "StyleView",
            "_model_name": "DescriptionStyleModel",
            "description_width": "",
            "_view_module": "@jupyter-widgets/base",
            "_model_module_version": "1.5.0",
            "_view_count": null,
            "_view_module_version": "1.2.0",
            "_model_module": "@jupyter-widgets/controls"
          }
        },
        "275f0aa37435498598f6c84ad4b12e52": {
          "model_module": "@jupyter-widgets/base",
          "model_name": "LayoutModel",
          "state": {
            "_view_name": "LayoutView",
            "grid_template_rows": null,
            "right": null,
            "justify_content": null,
            "_view_module": "@jupyter-widgets/base",
            "overflow": null,
            "_model_module_version": "1.2.0",
            "_view_count": null,
            "flex_flow": null,
            "width": null,
            "min_width": null,
            "border": null,
            "align_items": null,
            "bottom": null,
            "_model_module": "@jupyter-widgets/base",
            "top": null,
            "grid_column": null,
            "overflow_y": null,
            "overflow_x": null,
            "grid_auto_flow": null,
            "grid_area": null,
            "grid_template_columns": null,
            "flex": null,
            "_model_name": "LayoutModel",
            "justify_items": null,
            "grid_row": null,
            "max_height": null,
            "align_content": null,
            "visibility": null,
            "align_self": null,
            "height": null,
            "min_height": null,
            "padding": null,
            "grid_auto_rows": null,
            "grid_gap": null,
            "max_width": null,
            "order": null,
            "_view_module_version": "1.2.0",
            "grid_template_areas": null,
            "object_position": null,
            "object_fit": null,
            "grid_auto_columns": null,
            "margin": null,
            "display": null,
            "left": null
          }
        },
        "b0d953c23d7c4d0386e07f66a3503ba5": {
          "model_module": "@jupyter-widgets/controls",
          "model_name": "HBoxModel",
          "state": {
            "_view_name": "HBoxView",
            "_dom_classes": [],
            "_model_name": "HBoxModel",
            "_view_module": "@jupyter-widgets/controls",
            "_model_module_version": "1.5.0",
            "_view_count": null,
            "_view_module_version": "1.5.0",
            "box_style": "",
            "layout": "IPY_MODEL_41a55fd391f14bf8b10ab432258c361b",
            "_model_module": "@jupyter-widgets/controls",
            "children": [
              "IPY_MODEL_20592c3999224c6081a6f6a2a35df927",
              "IPY_MODEL_8d6cac7288194fb3bc823ce991e948a2"
            ]
          }
        },
        "41a55fd391f14bf8b10ab432258c361b": {
          "model_module": "@jupyter-widgets/base",
          "model_name": "LayoutModel",
          "state": {
            "_view_name": "LayoutView",
            "grid_template_rows": null,
            "right": null,
            "justify_content": null,
            "_view_module": "@jupyter-widgets/base",
            "overflow": null,
            "_model_module_version": "1.2.0",
            "_view_count": null,
            "flex_flow": null,
            "width": null,
            "min_width": null,
            "border": null,
            "align_items": null,
            "bottom": null,
            "_model_module": "@jupyter-widgets/base",
            "top": null,
            "grid_column": null,
            "overflow_y": null,
            "overflow_x": null,
            "grid_auto_flow": null,
            "grid_area": null,
            "grid_template_columns": null,
            "flex": null,
            "_model_name": "LayoutModel",
            "justify_items": null,
            "grid_row": null,
            "max_height": null,
            "align_content": null,
            "visibility": null,
            "align_self": null,
            "height": null,
            "min_height": null,
            "padding": null,
            "grid_auto_rows": null,
            "grid_gap": null,
            "max_width": null,
            "order": null,
            "_view_module_version": "1.2.0",
            "grid_template_areas": null,
            "object_position": null,
            "object_fit": null,
            "grid_auto_columns": null,
            "margin": null,
            "display": null,
            "left": null
          }
        },
        "20592c3999224c6081a6f6a2a35df927": {
          "model_module": "@jupyter-widgets/controls",
          "model_name": "IntProgressModel",
          "state": {
            "_view_name": "ProgressView",
            "style": "IPY_MODEL_20db1cef73284f15a57bfe933359391b",
            "_dom_classes": [],
            "description": "Train Epoch: 0 [2060/6200 (99%)]\tLoss: 0.274244: ",
            "_model_name": "IntProgressModel",
            "bar_style": "success",
            "max": 1,
            "_view_module": "@jupyter-widgets/controls",
            "_model_module_version": "1.5.0",
            "value": 1,
            "_view_count": null,
            "_view_module_version": "1.5.0",
            "orientation": "horizontal",
            "min": 0,
            "description_tooltip": null,
            "_model_module": "@jupyter-widgets/controls",
            "layout": "IPY_MODEL_36fb83d48dc84954b1f9b59b25473c33"
          }
        },
        "8d6cac7288194fb3bc823ce991e948a2": {
          "model_module": "@jupyter-widgets/controls",
          "model_name": "HTMLModel",
          "state": {
            "_view_name": "HTMLView",
            "style": "IPY_MODEL_d7be761f1d1e40e5a4c6b4cf183e3620",
            "_dom_classes": [],
            "description": "",
            "_model_name": "HTMLModel",
            "placeholder": "​",
            "_view_module": "@jupyter-widgets/controls",
            "_model_module_version": "1.5.0",
            "value": " 104/? [03:53&lt;00:00,  2.24s/it]",
            "_view_count": null,
            "_view_module_version": "1.5.0",
            "description_tooltip": null,
            "_model_module": "@jupyter-widgets/controls",
            "layout": "IPY_MODEL_78e4d15d810a4fdc9e6ed9777bc24e42"
          }
        },
        "20db1cef73284f15a57bfe933359391b": {
          "model_module": "@jupyter-widgets/controls",
          "model_name": "ProgressStyleModel",
          "state": {
            "_view_name": "StyleView",
            "_model_name": "ProgressStyleModel",
            "description_width": "initial",
            "_view_module": "@jupyter-widgets/base",
            "_model_module_version": "1.5.0",
            "_view_count": null,
            "_view_module_version": "1.2.0",
            "bar_color": null,
            "_model_module": "@jupyter-widgets/controls"
          }
        },
        "36fb83d48dc84954b1f9b59b25473c33": {
          "model_module": "@jupyter-widgets/base",
          "model_name": "LayoutModel",
          "state": {
            "_view_name": "LayoutView",
            "grid_template_rows": null,
            "right": null,
            "justify_content": null,
            "_view_module": "@jupyter-widgets/base",
            "overflow": null,
            "_model_module_version": "1.2.0",
            "_view_count": null,
            "flex_flow": null,
            "width": null,
            "min_width": null,
            "border": null,
            "align_items": null,
            "bottom": null,
            "_model_module": "@jupyter-widgets/base",
            "top": null,
            "grid_column": null,
            "overflow_y": null,
            "overflow_x": null,
            "grid_auto_flow": null,
            "grid_area": null,
            "grid_template_columns": null,
            "flex": null,
            "_model_name": "LayoutModel",
            "justify_items": null,
            "grid_row": null,
            "max_height": null,
            "align_content": null,
            "visibility": null,
            "align_self": null,
            "height": null,
            "min_height": null,
            "padding": null,
            "grid_auto_rows": null,
            "grid_gap": null,
            "max_width": null,
            "order": null,
            "_view_module_version": "1.2.0",
            "grid_template_areas": null,
            "object_position": null,
            "object_fit": null,
            "grid_auto_columns": null,
            "margin": null,
            "display": null,
            "left": null
          }
        },
        "d7be761f1d1e40e5a4c6b4cf183e3620": {
          "model_module": "@jupyter-widgets/controls",
          "model_name": "DescriptionStyleModel",
          "state": {
            "_view_name": "StyleView",
            "_model_name": "DescriptionStyleModel",
            "description_width": "",
            "_view_module": "@jupyter-widgets/base",
            "_model_module_version": "1.5.0",
            "_view_count": null,
            "_view_module_version": "1.2.0",
            "_model_module": "@jupyter-widgets/controls"
          }
        },
        "78e4d15d810a4fdc9e6ed9777bc24e42": {
          "model_module": "@jupyter-widgets/base",
          "model_name": "LayoutModel",
          "state": {
            "_view_name": "LayoutView",
            "grid_template_rows": null,
            "right": null,
            "justify_content": null,
            "_view_module": "@jupyter-widgets/base",
            "overflow": null,
            "_model_module_version": "1.2.0",
            "_view_count": null,
            "flex_flow": null,
            "width": null,
            "min_width": null,
            "border": null,
            "align_items": null,
            "bottom": null,
            "_model_module": "@jupyter-widgets/base",
            "top": null,
            "grid_column": null,
            "overflow_y": null,
            "overflow_x": null,
            "grid_auto_flow": null,
            "grid_area": null,
            "grid_template_columns": null,
            "flex": null,
            "_model_name": "LayoutModel",
            "justify_items": null,
            "grid_row": null,
            "max_height": null,
            "align_content": null,
            "visibility": null,
            "align_self": null,
            "height": null,
            "min_height": null,
            "padding": null,
            "grid_auto_rows": null,
            "grid_gap": null,
            "max_width": null,
            "order": null,
            "_view_module_version": "1.2.0",
            "grid_template_areas": null,
            "object_position": null,
            "object_fit": null,
            "grid_auto_columns": null,
            "margin": null,
            "display": null,
            "left": null
          }
        },
        "acf1676237664327837414b317b6d1fd": {
          "model_module": "@jupyter-widgets/controls",
          "model_name": "HBoxModel",
          "state": {
            "_view_name": "HBoxView",
            "_dom_classes": [],
            "_model_name": "HBoxModel",
            "_view_module": "@jupyter-widgets/controls",
            "_model_module_version": "1.5.0",
            "_view_count": null,
            "_view_module_version": "1.5.0",
            "box_style": "",
            "layout": "IPY_MODEL_fabdfe085aae49a0ad812ed9e8afff16",
            "_model_module": "@jupyter-widgets/controls",
            "children": [
              "IPY_MODEL_a8fc29d59918468aaf50572f909c69b1",
              "IPY_MODEL_e94cf0e3415e4b2eb91c3b67761e0ba1"
            ]
          }
        },
        "fabdfe085aae49a0ad812ed9e8afff16": {
          "model_module": "@jupyter-widgets/base",
          "model_name": "LayoutModel",
          "state": {
            "_view_name": "LayoutView",
            "grid_template_rows": null,
            "right": null,
            "justify_content": null,
            "_view_module": "@jupyter-widgets/base",
            "overflow": null,
            "_model_module_version": "1.2.0",
            "_view_count": null,
            "flex_flow": null,
            "width": null,
            "min_width": null,
            "border": null,
            "align_items": null,
            "bottom": null,
            "_model_module": "@jupyter-widgets/base",
            "top": null,
            "grid_column": null,
            "overflow_y": null,
            "overflow_x": null,
            "grid_auto_flow": null,
            "grid_area": null,
            "grid_template_columns": null,
            "flex": null,
            "_model_name": "LayoutModel",
            "justify_items": null,
            "grid_row": null,
            "max_height": null,
            "align_content": null,
            "visibility": null,
            "align_self": null,
            "height": null,
            "min_height": null,
            "padding": null,
            "grid_auto_rows": null,
            "grid_gap": null,
            "max_width": null,
            "order": null,
            "_view_module_version": "1.2.0",
            "grid_template_areas": null,
            "object_position": null,
            "object_fit": null,
            "grid_auto_columns": null,
            "margin": null,
            "display": null,
            "left": null
          }
        },
        "a8fc29d59918468aaf50572f909c69b1": {
          "model_module": "@jupyter-widgets/controls",
          "model_name": "IntProgressModel",
          "state": {
            "_view_name": "ProgressView",
            "style": "IPY_MODEL_17f0f6a9542f428aa324a9cf02de4203",
            "_dom_classes": [],
            "description": "Train Epoch: 1 [2060/6200 (99%)]\tLoss: 0.053216: ",
            "_model_name": "IntProgressModel",
            "bar_style": "success",
            "max": 1,
            "_view_module": "@jupyter-widgets/controls",
            "_model_module_version": "1.5.0",
            "value": 1,
            "_view_count": null,
            "_view_module_version": "1.5.0",
            "orientation": "horizontal",
            "min": 0,
            "description_tooltip": null,
            "_model_module": "@jupyter-widgets/controls",
            "layout": "IPY_MODEL_3ac27a6bba7b4cd79023ab19cd8bd7b1"
          }
        },
        "e94cf0e3415e4b2eb91c3b67761e0ba1": {
          "model_module": "@jupyter-widgets/controls",
          "model_name": "HTMLModel",
          "state": {
            "_view_name": "HTMLView",
            "style": "IPY_MODEL_2718d4378b1546ce995e50a51d6d6281",
            "_dom_classes": [],
            "description": "",
            "_model_name": "HTMLModel",
            "placeholder": "​",
            "_view_module": "@jupyter-widgets/controls",
            "_model_module_version": "1.5.0",
            "value": " 104/? [01:44&lt;00:00,  1.01s/it]",
            "_view_count": null,
            "_view_module_version": "1.5.0",
            "description_tooltip": null,
            "_model_module": "@jupyter-widgets/controls",
            "layout": "IPY_MODEL_31d122d6ffeb498d9ab758ac49d5f144"
          }
        },
        "17f0f6a9542f428aa324a9cf02de4203": {
          "model_module": "@jupyter-widgets/controls",
          "model_name": "ProgressStyleModel",
          "state": {
            "_view_name": "StyleView",
            "_model_name": "ProgressStyleModel",
            "description_width": "initial",
            "_view_module": "@jupyter-widgets/base",
            "_model_module_version": "1.5.0",
            "_view_count": null,
            "_view_module_version": "1.2.0",
            "bar_color": null,
            "_model_module": "@jupyter-widgets/controls"
          }
        },
        "3ac27a6bba7b4cd79023ab19cd8bd7b1": {
          "model_module": "@jupyter-widgets/base",
          "model_name": "LayoutModel",
          "state": {
            "_view_name": "LayoutView",
            "grid_template_rows": null,
            "right": null,
            "justify_content": null,
            "_view_module": "@jupyter-widgets/base",
            "overflow": null,
            "_model_module_version": "1.2.0",
            "_view_count": null,
            "flex_flow": null,
            "width": null,
            "min_width": null,
            "border": null,
            "align_items": null,
            "bottom": null,
            "_model_module": "@jupyter-widgets/base",
            "top": null,
            "grid_column": null,
            "overflow_y": null,
            "overflow_x": null,
            "grid_auto_flow": null,
            "grid_area": null,
            "grid_template_columns": null,
            "flex": null,
            "_model_name": "LayoutModel",
            "justify_items": null,
            "grid_row": null,
            "max_height": null,
            "align_content": null,
            "visibility": null,
            "align_self": null,
            "height": null,
            "min_height": null,
            "padding": null,
            "grid_auto_rows": null,
            "grid_gap": null,
            "max_width": null,
            "order": null,
            "_view_module_version": "1.2.0",
            "grid_template_areas": null,
            "object_position": null,
            "object_fit": null,
            "grid_auto_columns": null,
            "margin": null,
            "display": null,
            "left": null
          }
        },
        "2718d4378b1546ce995e50a51d6d6281": {
          "model_module": "@jupyter-widgets/controls",
          "model_name": "DescriptionStyleModel",
          "state": {
            "_view_name": "StyleView",
            "_model_name": "DescriptionStyleModel",
            "description_width": "",
            "_view_module": "@jupyter-widgets/base",
            "_model_module_version": "1.5.0",
            "_view_count": null,
            "_view_module_version": "1.2.0",
            "_model_module": "@jupyter-widgets/controls"
          }
        },
        "31d122d6ffeb498d9ab758ac49d5f144": {
          "model_module": "@jupyter-widgets/base",
          "model_name": "LayoutModel",
          "state": {
            "_view_name": "LayoutView",
            "grid_template_rows": null,
            "right": null,
            "justify_content": null,
            "_view_module": "@jupyter-widgets/base",
            "overflow": null,
            "_model_module_version": "1.2.0",
            "_view_count": null,
            "flex_flow": null,
            "width": null,
            "min_width": null,
            "border": null,
            "align_items": null,
            "bottom": null,
            "_model_module": "@jupyter-widgets/base",
            "top": null,
            "grid_column": null,
            "overflow_y": null,
            "overflow_x": null,
            "grid_auto_flow": null,
            "grid_area": null,
            "grid_template_columns": null,
            "flex": null,
            "_model_name": "LayoutModel",
            "justify_items": null,
            "grid_row": null,
            "max_height": null,
            "align_content": null,
            "visibility": null,
            "align_self": null,
            "height": null,
            "min_height": null,
            "padding": null,
            "grid_auto_rows": null,
            "grid_gap": null,
            "max_width": null,
            "order": null,
            "_view_module_version": "1.2.0",
            "grid_template_areas": null,
            "object_position": null,
            "object_fit": null,
            "grid_auto_columns": null,
            "margin": null,
            "display": null,
            "left": null
          }
        },
        "b541fd80ed094c88bdfc753ede1c561f": {
          "model_module": "@jupyter-widgets/controls",
          "model_name": "HBoxModel",
          "state": {
            "_view_name": "HBoxView",
            "_dom_classes": [],
            "_model_name": "HBoxModel",
            "_view_module": "@jupyter-widgets/controls",
            "_model_module_version": "1.5.0",
            "_view_count": null,
            "_view_module_version": "1.5.0",
            "box_style": "",
            "layout": "IPY_MODEL_2edf91e62ba24149b9926377884fe6b3",
            "_model_module": "@jupyter-widgets/controls",
            "children": [
              "IPY_MODEL_70759b5324df4052a9b686588694e705",
              "IPY_MODEL_610e24c0bbf24c5aba58e3f3c9bf818b"
            ]
          }
        },
        "2edf91e62ba24149b9926377884fe6b3": {
          "model_module": "@jupyter-widgets/base",
          "model_name": "LayoutModel",
          "state": {
            "_view_name": "LayoutView",
            "grid_template_rows": null,
            "right": null,
            "justify_content": null,
            "_view_module": "@jupyter-widgets/base",
            "overflow": null,
            "_model_module_version": "1.2.0",
            "_view_count": null,
            "flex_flow": null,
            "width": null,
            "min_width": null,
            "border": null,
            "align_items": null,
            "bottom": null,
            "_model_module": "@jupyter-widgets/base",
            "top": null,
            "grid_column": null,
            "overflow_y": null,
            "overflow_x": null,
            "grid_auto_flow": null,
            "grid_area": null,
            "grid_template_columns": null,
            "flex": null,
            "_model_name": "LayoutModel",
            "justify_items": null,
            "grid_row": null,
            "max_height": null,
            "align_content": null,
            "visibility": null,
            "align_self": null,
            "height": null,
            "min_height": null,
            "padding": null,
            "grid_auto_rows": null,
            "grid_gap": null,
            "max_width": null,
            "order": null,
            "_view_module_version": "1.2.0",
            "grid_template_areas": null,
            "object_position": null,
            "object_fit": null,
            "grid_auto_columns": null,
            "margin": null,
            "display": null,
            "left": null
          }
        },
        "70759b5324df4052a9b686588694e705": {
          "model_module": "@jupyter-widgets/controls",
          "model_name": "IntProgressModel",
          "state": {
            "_view_name": "ProgressView",
            "style": "IPY_MODEL_d679df4cf3cb4c9ebe223fd482047914",
            "_dom_classes": [],
            "description": "Train Epoch: 0 [2060/6200 (99%)]\tLoss: 0.011712: ",
            "_model_name": "IntProgressModel",
            "bar_style": "success",
            "max": 1,
            "_view_module": "@jupyter-widgets/controls",
            "_model_module_version": "1.5.0",
            "value": 1,
            "_view_count": null,
            "_view_module_version": "1.5.0",
            "orientation": "horizontal",
            "min": 0,
            "description_tooltip": null,
            "_model_module": "@jupyter-widgets/controls",
            "layout": "IPY_MODEL_7b0b169fed924cdd9c214aed53dc9fd0"
          }
        },
        "610e24c0bbf24c5aba58e3f3c9bf818b": {
          "model_module": "@jupyter-widgets/controls",
          "model_name": "HTMLModel",
          "state": {
            "_view_name": "HTMLView",
            "style": "IPY_MODEL_0512f4ca1d834a159af1b11023c90ff0",
            "_dom_classes": [],
            "description": "",
            "_model_name": "HTMLModel",
            "placeholder": "​",
            "_view_module": "@jupyter-widgets/controls",
            "_model_module_version": "1.5.0",
            "value": " 104/? [05:46&lt;00:00,  3.33s/it]",
            "_view_count": null,
            "_view_module_version": "1.5.0",
            "description_tooltip": null,
            "_model_module": "@jupyter-widgets/controls",
            "layout": "IPY_MODEL_3f2d5e505f654995af6240ed43363cf5"
          }
        },
        "d679df4cf3cb4c9ebe223fd482047914": {
          "model_module": "@jupyter-widgets/controls",
          "model_name": "ProgressStyleModel",
          "state": {
            "_view_name": "StyleView",
            "_model_name": "ProgressStyleModel",
            "description_width": "initial",
            "_view_module": "@jupyter-widgets/base",
            "_model_module_version": "1.5.0",
            "_view_count": null,
            "_view_module_version": "1.2.0",
            "bar_color": null,
            "_model_module": "@jupyter-widgets/controls"
          }
        },
        "7b0b169fed924cdd9c214aed53dc9fd0": {
          "model_module": "@jupyter-widgets/base",
          "model_name": "LayoutModel",
          "state": {
            "_view_name": "LayoutView",
            "grid_template_rows": null,
            "right": null,
            "justify_content": null,
            "_view_module": "@jupyter-widgets/base",
            "overflow": null,
            "_model_module_version": "1.2.0",
            "_view_count": null,
            "flex_flow": null,
            "width": null,
            "min_width": null,
            "border": null,
            "align_items": null,
            "bottom": null,
            "_model_module": "@jupyter-widgets/base",
            "top": null,
            "grid_column": null,
            "overflow_y": null,
            "overflow_x": null,
            "grid_auto_flow": null,
            "grid_area": null,
            "grid_template_columns": null,
            "flex": null,
            "_model_name": "LayoutModel",
            "justify_items": null,
            "grid_row": null,
            "max_height": null,
            "align_content": null,
            "visibility": null,
            "align_self": null,
            "height": null,
            "min_height": null,
            "padding": null,
            "grid_auto_rows": null,
            "grid_gap": null,
            "max_width": null,
            "order": null,
            "_view_module_version": "1.2.0",
            "grid_template_areas": null,
            "object_position": null,
            "object_fit": null,
            "grid_auto_columns": null,
            "margin": null,
            "display": null,
            "left": null
          }
        },
        "0512f4ca1d834a159af1b11023c90ff0": {
          "model_module": "@jupyter-widgets/controls",
          "model_name": "DescriptionStyleModel",
          "state": {
            "_view_name": "StyleView",
            "_model_name": "DescriptionStyleModel",
            "description_width": "",
            "_view_module": "@jupyter-widgets/base",
            "_model_module_version": "1.5.0",
            "_view_count": null,
            "_view_module_version": "1.2.0",
            "_model_module": "@jupyter-widgets/controls"
          }
        },
        "3f2d5e505f654995af6240ed43363cf5": {
          "model_module": "@jupyter-widgets/base",
          "model_name": "LayoutModel",
          "state": {
            "_view_name": "LayoutView",
            "grid_template_rows": null,
            "right": null,
            "justify_content": null,
            "_view_module": "@jupyter-widgets/base",
            "overflow": null,
            "_model_module_version": "1.2.0",
            "_view_count": null,
            "flex_flow": null,
            "width": null,
            "min_width": null,
            "border": null,
            "align_items": null,
            "bottom": null,
            "_model_module": "@jupyter-widgets/base",
            "top": null,
            "grid_column": null,
            "overflow_y": null,
            "overflow_x": null,
            "grid_auto_flow": null,
            "grid_area": null,
            "grid_template_columns": null,
            "flex": null,
            "_model_name": "LayoutModel",
            "justify_items": null,
            "grid_row": null,
            "max_height": null,
            "align_content": null,
            "visibility": null,
            "align_self": null,
            "height": null,
            "min_height": null,
            "padding": null,
            "grid_auto_rows": null,
            "grid_gap": null,
            "max_width": null,
            "order": null,
            "_view_module_version": "1.2.0",
            "grid_template_areas": null,
            "object_position": null,
            "object_fit": null,
            "grid_auto_columns": null,
            "margin": null,
            "display": null,
            "left": null
          }
        },
        "4ddb89235fc94e409d8177c2a26520cd": {
          "model_module": "@jupyter-widgets/controls",
          "model_name": "HBoxModel",
          "state": {
            "_view_name": "HBoxView",
            "_dom_classes": [],
            "_model_name": "HBoxModel",
            "_view_module": "@jupyter-widgets/controls",
            "_model_module_version": "1.5.0",
            "_view_count": null,
            "_view_module_version": "1.5.0",
            "box_style": "",
            "layout": "IPY_MODEL_2669fbb600a94c48ba127d200e0088a1",
            "_model_module": "@jupyter-widgets/controls",
            "children": [
              "IPY_MODEL_b88ba7c6b0a64cd1ae5b31c4084976a6",
              "IPY_MODEL_85303228aaac4f649a19843bef2c0b87"
            ]
          }
        },
        "2669fbb600a94c48ba127d200e0088a1": {
          "model_module": "@jupyter-widgets/base",
          "model_name": "LayoutModel",
          "state": {
            "_view_name": "LayoutView",
            "grid_template_rows": null,
            "right": null,
            "justify_content": null,
            "_view_module": "@jupyter-widgets/base",
            "overflow": null,
            "_model_module_version": "1.2.0",
            "_view_count": null,
            "flex_flow": null,
            "width": null,
            "min_width": null,
            "border": null,
            "align_items": null,
            "bottom": null,
            "_model_module": "@jupyter-widgets/base",
            "top": null,
            "grid_column": null,
            "overflow_y": null,
            "overflow_x": null,
            "grid_auto_flow": null,
            "grid_area": null,
            "grid_template_columns": null,
            "flex": null,
            "_model_name": "LayoutModel",
            "justify_items": null,
            "grid_row": null,
            "max_height": null,
            "align_content": null,
            "visibility": null,
            "align_self": null,
            "height": null,
            "min_height": null,
            "padding": null,
            "grid_auto_rows": null,
            "grid_gap": null,
            "max_width": null,
            "order": null,
            "_view_module_version": "1.2.0",
            "grid_template_areas": null,
            "object_position": null,
            "object_fit": null,
            "grid_auto_columns": null,
            "margin": null,
            "display": null,
            "left": null
          }
        },
        "b88ba7c6b0a64cd1ae5b31c4084976a6": {
          "model_module": "@jupyter-widgets/controls",
          "model_name": "IntProgressModel",
          "state": {
            "_view_name": "ProgressView",
            "style": "IPY_MODEL_ef414bc905ab46e88e1ea9391320807b",
            "_dom_classes": [],
            "description": "Train Epoch: 1 [2060/6200 (99%)]\tLoss: 0.012730: ",
            "_model_name": "IntProgressModel",
            "bar_style": "success",
            "max": 1,
            "_view_module": "@jupyter-widgets/controls",
            "_model_module_version": "1.5.0",
            "value": 1,
            "_view_count": null,
            "_view_module_version": "1.5.0",
            "orientation": "horizontal",
            "min": 0,
            "description_tooltip": null,
            "_model_module": "@jupyter-widgets/controls",
            "layout": "IPY_MODEL_7c0a163adf154feaab7caeed897f7cc5"
          }
        },
        "85303228aaac4f649a19843bef2c0b87": {
          "model_module": "@jupyter-widgets/controls",
          "model_name": "HTMLModel",
          "state": {
            "_view_name": "HTMLView",
            "style": "IPY_MODEL_48e475b4935f4ca0945c69b2857aaa34",
            "_dom_classes": [],
            "description": "",
            "_model_name": "HTMLModel",
            "placeholder": "​",
            "_view_module": "@jupyter-widgets/controls",
            "_model_module_version": "1.5.0",
            "value": " 104/? [03:49&lt;00:00,  2.21s/it]",
            "_view_count": null,
            "_view_module_version": "1.5.0",
            "description_tooltip": null,
            "_model_module": "@jupyter-widgets/controls",
            "layout": "IPY_MODEL_a1526512ef254de89c195a10105567ad"
          }
        },
        "ef414bc905ab46e88e1ea9391320807b": {
          "model_module": "@jupyter-widgets/controls",
          "model_name": "ProgressStyleModel",
          "state": {
            "_view_name": "StyleView",
            "_model_name": "ProgressStyleModel",
            "description_width": "initial",
            "_view_module": "@jupyter-widgets/base",
            "_model_module_version": "1.5.0",
            "_view_count": null,
            "_view_module_version": "1.2.0",
            "bar_color": null,
            "_model_module": "@jupyter-widgets/controls"
          }
        },
        "7c0a163adf154feaab7caeed897f7cc5": {
          "model_module": "@jupyter-widgets/base",
          "model_name": "LayoutModel",
          "state": {
            "_view_name": "LayoutView",
            "grid_template_rows": null,
            "right": null,
            "justify_content": null,
            "_view_module": "@jupyter-widgets/base",
            "overflow": null,
            "_model_module_version": "1.2.0",
            "_view_count": null,
            "flex_flow": null,
            "width": null,
            "min_width": null,
            "border": null,
            "align_items": null,
            "bottom": null,
            "_model_module": "@jupyter-widgets/base",
            "top": null,
            "grid_column": null,
            "overflow_y": null,
            "overflow_x": null,
            "grid_auto_flow": null,
            "grid_area": null,
            "grid_template_columns": null,
            "flex": null,
            "_model_name": "LayoutModel",
            "justify_items": null,
            "grid_row": null,
            "max_height": null,
            "align_content": null,
            "visibility": null,
            "align_self": null,
            "height": null,
            "min_height": null,
            "padding": null,
            "grid_auto_rows": null,
            "grid_gap": null,
            "max_width": null,
            "order": null,
            "_view_module_version": "1.2.0",
            "grid_template_areas": null,
            "object_position": null,
            "object_fit": null,
            "grid_auto_columns": null,
            "margin": null,
            "display": null,
            "left": null
          }
        },
        "48e475b4935f4ca0945c69b2857aaa34": {
          "model_module": "@jupyter-widgets/controls",
          "model_name": "DescriptionStyleModel",
          "state": {
            "_view_name": "StyleView",
            "_model_name": "DescriptionStyleModel",
            "description_width": "",
            "_view_module": "@jupyter-widgets/base",
            "_model_module_version": "1.5.0",
            "_view_count": null,
            "_view_module_version": "1.2.0",
            "_model_module": "@jupyter-widgets/controls"
          }
        },
        "a1526512ef254de89c195a10105567ad": {
          "model_module": "@jupyter-widgets/base",
          "model_name": "LayoutModel",
          "state": {
            "_view_name": "LayoutView",
            "grid_template_rows": null,
            "right": null,
            "justify_content": null,
            "_view_module": "@jupyter-widgets/base",
            "overflow": null,
            "_model_module_version": "1.2.0",
            "_view_count": null,
            "flex_flow": null,
            "width": null,
            "min_width": null,
            "border": null,
            "align_items": null,
            "bottom": null,
            "_model_module": "@jupyter-widgets/base",
            "top": null,
            "grid_column": null,
            "overflow_y": null,
            "overflow_x": null,
            "grid_auto_flow": null,
            "grid_area": null,
            "grid_template_columns": null,
            "flex": null,
            "_model_name": "LayoutModel",
            "justify_items": null,
            "grid_row": null,
            "max_height": null,
            "align_content": null,
            "visibility": null,
            "align_self": null,
            "height": null,
            "min_height": null,
            "padding": null,
            "grid_auto_rows": null,
            "grid_gap": null,
            "max_width": null,
            "order": null,
            "_view_module_version": "1.2.0",
            "grid_template_areas": null,
            "object_position": null,
            "object_fit": null,
            "grid_auto_columns": null,
            "margin": null,
            "display": null,
            "left": null
          }
        },
        "57b413c672b945d0a8b92424a8127fa6": {
          "model_module": "@jupyter-widgets/controls",
          "model_name": "HBoxModel",
          "state": {
            "_view_name": "HBoxView",
            "_dom_classes": [],
            "_model_name": "HBoxModel",
            "_view_module": "@jupyter-widgets/controls",
            "_model_module_version": "1.5.0",
            "_view_count": null,
            "_view_module_version": "1.5.0",
            "box_style": "",
            "layout": "IPY_MODEL_ca0a1205b4fa44728f9c924d87e0d530",
            "_model_module": "@jupyter-widgets/controls",
            "children": [
              "IPY_MODEL_c74e2d2a76ea4b3ab92f882e7f487611",
              "IPY_MODEL_39eb716e6a6c477e805d499298d0aff6"
            ]
          }
        },
        "ca0a1205b4fa44728f9c924d87e0d530": {
          "model_module": "@jupyter-widgets/base",
          "model_name": "LayoutModel",
          "state": {
            "_view_name": "LayoutView",
            "grid_template_rows": null,
            "right": null,
            "justify_content": null,
            "_view_module": "@jupyter-widgets/base",
            "overflow": null,
            "_model_module_version": "1.2.0",
            "_view_count": null,
            "flex_flow": null,
            "width": null,
            "min_width": null,
            "border": null,
            "align_items": null,
            "bottom": null,
            "_model_module": "@jupyter-widgets/base",
            "top": null,
            "grid_column": null,
            "overflow_y": null,
            "overflow_x": null,
            "grid_auto_flow": null,
            "grid_area": null,
            "grid_template_columns": null,
            "flex": null,
            "_model_name": "LayoutModel",
            "justify_items": null,
            "grid_row": null,
            "max_height": null,
            "align_content": null,
            "visibility": null,
            "align_self": null,
            "height": null,
            "min_height": null,
            "padding": null,
            "grid_auto_rows": null,
            "grid_gap": null,
            "max_width": null,
            "order": null,
            "_view_module_version": "1.2.0",
            "grid_template_areas": null,
            "object_position": null,
            "object_fit": null,
            "grid_auto_columns": null,
            "margin": null,
            "display": null,
            "left": null
          }
        },
        "c74e2d2a76ea4b3ab92f882e7f487611": {
          "model_module": "@jupyter-widgets/controls",
          "model_name": "IntProgressModel",
          "state": {
            "_view_name": "ProgressView",
            "style": "IPY_MODEL_ee95370e98a74de1b06b9521029b40c2",
            "_dom_classes": [],
            "description": "Train Epoch: 2 [2060/6200 (99%)]\tLoss: 0.071124: ",
            "_model_name": "IntProgressModel",
            "bar_style": "success",
            "max": 1,
            "_view_module": "@jupyter-widgets/controls",
            "_model_module_version": "1.5.0",
            "value": 1,
            "_view_count": null,
            "_view_module_version": "1.5.0",
            "orientation": "horizontal",
            "min": 0,
            "description_tooltip": null,
            "_model_module": "@jupyter-widgets/controls",
            "layout": "IPY_MODEL_7b0ed7ef94ec41cc8eec64d82682c0ac"
          }
        },
        "39eb716e6a6c477e805d499298d0aff6": {
          "model_module": "@jupyter-widgets/controls",
          "model_name": "HTMLModel",
          "state": {
            "_view_name": "HTMLView",
            "style": "IPY_MODEL_3bc0ac2e6d474a6d80d9da19a06898c9",
            "_dom_classes": [],
            "description": "",
            "_model_name": "HTMLModel",
            "placeholder": "​",
            "_view_module": "@jupyter-widgets/controls",
            "_model_module_version": "1.5.0",
            "value": " 104/? [06:46&lt;00:00,  3.91s/it]",
            "_view_count": null,
            "_view_module_version": "1.5.0",
            "description_tooltip": null,
            "_model_module": "@jupyter-widgets/controls",
            "layout": "IPY_MODEL_e56be4d25fe549ed862a02e877ec037e"
          }
        },
        "ee95370e98a74de1b06b9521029b40c2": {
          "model_module": "@jupyter-widgets/controls",
          "model_name": "ProgressStyleModel",
          "state": {
            "_view_name": "StyleView",
            "_model_name": "ProgressStyleModel",
            "description_width": "initial",
            "_view_module": "@jupyter-widgets/base",
            "_model_module_version": "1.5.0",
            "_view_count": null,
            "_view_module_version": "1.2.0",
            "bar_color": null,
            "_model_module": "@jupyter-widgets/controls"
          }
        },
        "7b0ed7ef94ec41cc8eec64d82682c0ac": {
          "model_module": "@jupyter-widgets/base",
          "model_name": "LayoutModel",
          "state": {
            "_view_name": "LayoutView",
            "grid_template_rows": null,
            "right": null,
            "justify_content": null,
            "_view_module": "@jupyter-widgets/base",
            "overflow": null,
            "_model_module_version": "1.2.0",
            "_view_count": null,
            "flex_flow": null,
            "width": null,
            "min_width": null,
            "border": null,
            "align_items": null,
            "bottom": null,
            "_model_module": "@jupyter-widgets/base",
            "top": null,
            "grid_column": null,
            "overflow_y": null,
            "overflow_x": null,
            "grid_auto_flow": null,
            "grid_area": null,
            "grid_template_columns": null,
            "flex": null,
            "_model_name": "LayoutModel",
            "justify_items": null,
            "grid_row": null,
            "max_height": null,
            "align_content": null,
            "visibility": null,
            "align_self": null,
            "height": null,
            "min_height": null,
            "padding": null,
            "grid_auto_rows": null,
            "grid_gap": null,
            "max_width": null,
            "order": null,
            "_view_module_version": "1.2.0",
            "grid_template_areas": null,
            "object_position": null,
            "object_fit": null,
            "grid_auto_columns": null,
            "margin": null,
            "display": null,
            "left": null
          }
        },
        "3bc0ac2e6d474a6d80d9da19a06898c9": {
          "model_module": "@jupyter-widgets/controls",
          "model_name": "DescriptionStyleModel",
          "state": {
            "_view_name": "StyleView",
            "_model_name": "DescriptionStyleModel",
            "description_width": "",
            "_view_module": "@jupyter-widgets/base",
            "_model_module_version": "1.5.0",
            "_view_count": null,
            "_view_module_version": "1.2.0",
            "_model_module": "@jupyter-widgets/controls"
          }
        },
        "e56be4d25fe549ed862a02e877ec037e": {
          "model_module": "@jupyter-widgets/base",
          "model_name": "LayoutModel",
          "state": {
            "_view_name": "LayoutView",
            "grid_template_rows": null,
            "right": null,
            "justify_content": null,
            "_view_module": "@jupyter-widgets/base",
            "overflow": null,
            "_model_module_version": "1.2.0",
            "_view_count": null,
            "flex_flow": null,
            "width": null,
            "min_width": null,
            "border": null,
            "align_items": null,
            "bottom": null,
            "_model_module": "@jupyter-widgets/base",
            "top": null,
            "grid_column": null,
            "overflow_y": null,
            "overflow_x": null,
            "grid_auto_flow": null,
            "grid_area": null,
            "grid_template_columns": null,
            "flex": null,
            "_model_name": "LayoutModel",
            "justify_items": null,
            "grid_row": null,
            "max_height": null,
            "align_content": null,
            "visibility": null,
            "align_self": null,
            "height": null,
            "min_height": null,
            "padding": null,
            "grid_auto_rows": null,
            "grid_gap": null,
            "max_width": null,
            "order": null,
            "_view_module_version": "1.2.0",
            "grid_template_areas": null,
            "object_position": null,
            "object_fit": null,
            "grid_auto_columns": null,
            "margin": null,
            "display": null,
            "left": null
          }
        },
        "8fd80dec1b08435fab41fccb5e52976c": {
          "model_module": "@jupyter-widgets/controls",
          "model_name": "HBoxModel",
          "state": {
            "_view_name": "HBoxView",
            "_dom_classes": [],
            "_model_name": "HBoxModel",
            "_view_module": "@jupyter-widgets/controls",
            "_model_module_version": "1.5.0",
            "_view_count": null,
            "_view_module_version": "1.5.0",
            "box_style": "",
            "layout": "IPY_MODEL_e12c0683cf1542278914291419ff270d",
            "_model_module": "@jupyter-widgets/controls",
            "children": [
              "IPY_MODEL_4f7467a33221490f838695c0c8da403a",
              "IPY_MODEL_d4f8ab6ae4a1499881f357319a5dba83"
            ]
          }
        },
        "e12c0683cf1542278914291419ff270d": {
          "model_module": "@jupyter-widgets/base",
          "model_name": "LayoutModel",
          "state": {
            "_view_name": "LayoutView",
            "grid_template_rows": null,
            "right": null,
            "justify_content": null,
            "_view_module": "@jupyter-widgets/base",
            "overflow": null,
            "_model_module_version": "1.2.0",
            "_view_count": null,
            "flex_flow": null,
            "width": null,
            "min_width": null,
            "border": null,
            "align_items": null,
            "bottom": null,
            "_model_module": "@jupyter-widgets/base",
            "top": null,
            "grid_column": null,
            "overflow_y": null,
            "overflow_x": null,
            "grid_auto_flow": null,
            "grid_area": null,
            "grid_template_columns": null,
            "flex": null,
            "_model_name": "LayoutModel",
            "justify_items": null,
            "grid_row": null,
            "max_height": null,
            "align_content": null,
            "visibility": null,
            "align_self": null,
            "height": null,
            "min_height": null,
            "padding": null,
            "grid_auto_rows": null,
            "grid_gap": null,
            "max_width": null,
            "order": null,
            "_view_module_version": "1.2.0",
            "grid_template_areas": null,
            "object_position": null,
            "object_fit": null,
            "grid_auto_columns": null,
            "margin": null,
            "display": null,
            "left": null
          }
        },
        "4f7467a33221490f838695c0c8da403a": {
          "model_module": "@jupyter-widgets/controls",
          "model_name": "IntProgressModel",
          "state": {
            "_view_name": "ProgressView",
            "style": "IPY_MODEL_9d76484b37ff4c29887293224765e9ef",
            "_dom_classes": [],
            "description": "Train Epoch: 0 [2060/6200 (99%)]\tLoss: 0.005539: ",
            "_model_name": "IntProgressModel",
            "bar_style": "success",
            "max": 1,
            "_view_module": "@jupyter-widgets/controls",
            "_model_module_version": "1.5.0",
            "value": 1,
            "_view_count": null,
            "_view_module_version": "1.5.0",
            "orientation": "horizontal",
            "min": 0,
            "description_tooltip": null,
            "_model_module": "@jupyter-widgets/controls",
            "layout": "IPY_MODEL_045cc7c4217246beba05ac9d56e12f94"
          }
        },
        "d4f8ab6ae4a1499881f357319a5dba83": {
          "model_module": "@jupyter-widgets/controls",
          "model_name": "HTMLModel",
          "state": {
            "_view_name": "HTMLView",
            "style": "IPY_MODEL_2cdb6cc98e0e468ca1b74cbec453e465",
            "_dom_classes": [],
            "description": "",
            "_model_name": "HTMLModel",
            "placeholder": "​",
            "_view_module": "@jupyter-widgets/controls",
            "_model_module_version": "1.5.0",
            "value": " 104/? [16:11&lt;00:00,  9.34s/it]",
            "_view_count": null,
            "_view_module_version": "1.5.0",
            "description_tooltip": null,
            "_model_module": "@jupyter-widgets/controls",
            "layout": "IPY_MODEL_d9ba7f46276e4f40b6d0f281b788ecdc"
          }
        },
        "9d76484b37ff4c29887293224765e9ef": {
          "model_module": "@jupyter-widgets/controls",
          "model_name": "ProgressStyleModel",
          "state": {
            "_view_name": "StyleView",
            "_model_name": "ProgressStyleModel",
            "description_width": "initial",
            "_view_module": "@jupyter-widgets/base",
            "_model_module_version": "1.5.0",
            "_view_count": null,
            "_view_module_version": "1.2.0",
            "bar_color": null,
            "_model_module": "@jupyter-widgets/controls"
          }
        },
        "045cc7c4217246beba05ac9d56e12f94": {
          "model_module": "@jupyter-widgets/base",
          "model_name": "LayoutModel",
          "state": {
            "_view_name": "LayoutView",
            "grid_template_rows": null,
            "right": null,
            "justify_content": null,
            "_view_module": "@jupyter-widgets/base",
            "overflow": null,
            "_model_module_version": "1.2.0",
            "_view_count": null,
            "flex_flow": null,
            "width": null,
            "min_width": null,
            "border": null,
            "align_items": null,
            "bottom": null,
            "_model_module": "@jupyter-widgets/base",
            "top": null,
            "grid_column": null,
            "overflow_y": null,
            "overflow_x": null,
            "grid_auto_flow": null,
            "grid_area": null,
            "grid_template_columns": null,
            "flex": null,
            "_model_name": "LayoutModel",
            "justify_items": null,
            "grid_row": null,
            "max_height": null,
            "align_content": null,
            "visibility": null,
            "align_self": null,
            "height": null,
            "min_height": null,
            "padding": null,
            "grid_auto_rows": null,
            "grid_gap": null,
            "max_width": null,
            "order": null,
            "_view_module_version": "1.2.0",
            "grid_template_areas": null,
            "object_position": null,
            "object_fit": null,
            "grid_auto_columns": null,
            "margin": null,
            "display": null,
            "left": null
          }
        },
        "2cdb6cc98e0e468ca1b74cbec453e465": {
          "model_module": "@jupyter-widgets/controls",
          "model_name": "DescriptionStyleModel",
          "state": {
            "_view_name": "StyleView",
            "_model_name": "DescriptionStyleModel",
            "description_width": "",
            "_view_module": "@jupyter-widgets/base",
            "_model_module_version": "1.5.0",
            "_view_count": null,
            "_view_module_version": "1.2.0",
            "_model_module": "@jupyter-widgets/controls"
          }
        },
        "d9ba7f46276e4f40b6d0f281b788ecdc": {
          "model_module": "@jupyter-widgets/base",
          "model_name": "LayoutModel",
          "state": {
            "_view_name": "LayoutView",
            "grid_template_rows": null,
            "right": null,
            "justify_content": null,
            "_view_module": "@jupyter-widgets/base",
            "overflow": null,
            "_model_module_version": "1.2.0",
            "_view_count": null,
            "flex_flow": null,
            "width": null,
            "min_width": null,
            "border": null,
            "align_items": null,
            "bottom": null,
            "_model_module": "@jupyter-widgets/base",
            "top": null,
            "grid_column": null,
            "overflow_y": null,
            "overflow_x": null,
            "grid_auto_flow": null,
            "grid_area": null,
            "grid_template_columns": null,
            "flex": null,
            "_model_name": "LayoutModel",
            "justify_items": null,
            "grid_row": null,
            "max_height": null,
            "align_content": null,
            "visibility": null,
            "align_self": null,
            "height": null,
            "min_height": null,
            "padding": null,
            "grid_auto_rows": null,
            "grid_gap": null,
            "max_width": null,
            "order": null,
            "_view_module_version": "1.2.0",
            "grid_template_areas": null,
            "object_position": null,
            "object_fit": null,
            "grid_auto_columns": null,
            "margin": null,
            "display": null,
            "left": null
          }
        },
        "6bb0ff59ee3f492e9c3408c88af81ac1": {
          "model_module": "@jupyter-widgets/controls",
          "model_name": "HBoxModel",
          "state": {
            "_view_name": "HBoxView",
            "_dom_classes": [],
            "_model_name": "HBoxModel",
            "_view_module": "@jupyter-widgets/controls",
            "_model_module_version": "1.5.0",
            "_view_count": null,
            "_view_module_version": "1.5.0",
            "box_style": "",
            "layout": "IPY_MODEL_18660f64b06644469bdc60870584d3e8",
            "_model_module": "@jupyter-widgets/controls",
            "children": [
              "IPY_MODEL_f23518567bbd4bc283833c95371aa020",
              "IPY_MODEL_6f44f03067dc4d65bb47f3e11db429cc"
            ]
          }
        },
        "18660f64b06644469bdc60870584d3e8": {
          "model_module": "@jupyter-widgets/base",
          "model_name": "LayoutModel",
          "state": {
            "_view_name": "LayoutView",
            "grid_template_rows": null,
            "right": null,
            "justify_content": null,
            "_view_module": "@jupyter-widgets/base",
            "overflow": null,
            "_model_module_version": "1.2.0",
            "_view_count": null,
            "flex_flow": null,
            "width": null,
            "min_width": null,
            "border": null,
            "align_items": null,
            "bottom": null,
            "_model_module": "@jupyter-widgets/base",
            "top": null,
            "grid_column": null,
            "overflow_y": null,
            "overflow_x": null,
            "grid_auto_flow": null,
            "grid_area": null,
            "grid_template_columns": null,
            "flex": null,
            "_model_name": "LayoutModel",
            "justify_items": null,
            "grid_row": null,
            "max_height": null,
            "align_content": null,
            "visibility": null,
            "align_self": null,
            "height": null,
            "min_height": null,
            "padding": null,
            "grid_auto_rows": null,
            "grid_gap": null,
            "max_width": null,
            "order": null,
            "_view_module_version": "1.2.0",
            "grid_template_areas": null,
            "object_position": null,
            "object_fit": null,
            "grid_auto_columns": null,
            "margin": null,
            "display": null,
            "left": null
          }
        },
        "f23518567bbd4bc283833c95371aa020": {
          "model_module": "@jupyter-widgets/controls",
          "model_name": "IntProgressModel",
          "state": {
            "_view_name": "ProgressView",
            "style": "IPY_MODEL_651f2fc9e7554c6b9a625de7c6bc5363",
            "_dom_classes": [],
            "description": "Train Epoch: 0 [2060/6200 (99%)]\tLoss: 0.318028: ",
            "_model_name": "IntProgressModel",
            "bar_style": "success",
            "max": 1,
            "_view_module": "@jupyter-widgets/controls",
            "_model_module_version": "1.5.0",
            "value": 1,
            "_view_count": null,
            "_view_module_version": "1.5.0",
            "orientation": "horizontal",
            "min": 0,
            "description_tooltip": null,
            "_model_module": "@jupyter-widgets/controls",
            "layout": "IPY_MODEL_ecf92bc78ace43a29f690c61e4034e44"
          }
        },
        "6f44f03067dc4d65bb47f3e11db429cc": {
          "model_module": "@jupyter-widgets/controls",
          "model_name": "HTMLModel",
          "state": {
            "_view_name": "HTMLView",
            "style": "IPY_MODEL_8184f6def5114d709dd15f611e4a16a8",
            "_dom_classes": [],
            "description": "",
            "_model_name": "HTMLModel",
            "placeholder": "​",
            "_view_module": "@jupyter-widgets/controls",
            "_model_module_version": "1.5.0",
            "value": " 104/? [16:17&lt;00:00,  9.40s/it]",
            "_view_count": null,
            "_view_module_version": "1.5.0",
            "description_tooltip": null,
            "_model_module": "@jupyter-widgets/controls",
            "layout": "IPY_MODEL_ab6669e7109f441c9d8103db1ff96d0f"
          }
        },
        "651f2fc9e7554c6b9a625de7c6bc5363": {
          "model_module": "@jupyter-widgets/controls",
          "model_name": "ProgressStyleModel",
          "state": {
            "_view_name": "StyleView",
            "_model_name": "ProgressStyleModel",
            "description_width": "initial",
            "_view_module": "@jupyter-widgets/base",
            "_model_module_version": "1.5.0",
            "_view_count": null,
            "_view_module_version": "1.2.0",
            "bar_color": null,
            "_model_module": "@jupyter-widgets/controls"
          }
        },
        "ecf92bc78ace43a29f690c61e4034e44": {
          "model_module": "@jupyter-widgets/base",
          "model_name": "LayoutModel",
          "state": {
            "_view_name": "LayoutView",
            "grid_template_rows": null,
            "right": null,
            "justify_content": null,
            "_view_module": "@jupyter-widgets/base",
            "overflow": null,
            "_model_module_version": "1.2.0",
            "_view_count": null,
            "flex_flow": null,
            "width": null,
            "min_width": null,
            "border": null,
            "align_items": null,
            "bottom": null,
            "_model_module": "@jupyter-widgets/base",
            "top": null,
            "grid_column": null,
            "overflow_y": null,
            "overflow_x": null,
            "grid_auto_flow": null,
            "grid_area": null,
            "grid_template_columns": null,
            "flex": null,
            "_model_name": "LayoutModel",
            "justify_items": null,
            "grid_row": null,
            "max_height": null,
            "align_content": null,
            "visibility": null,
            "align_self": null,
            "height": null,
            "min_height": null,
            "padding": null,
            "grid_auto_rows": null,
            "grid_gap": null,
            "max_width": null,
            "order": null,
            "_view_module_version": "1.2.0",
            "grid_template_areas": null,
            "object_position": null,
            "object_fit": null,
            "grid_auto_columns": null,
            "margin": null,
            "display": null,
            "left": null
          }
        },
        "8184f6def5114d709dd15f611e4a16a8": {
          "model_module": "@jupyter-widgets/controls",
          "model_name": "DescriptionStyleModel",
          "state": {
            "_view_name": "StyleView",
            "_model_name": "DescriptionStyleModel",
            "description_width": "",
            "_view_module": "@jupyter-widgets/base",
            "_model_module_version": "1.5.0",
            "_view_count": null,
            "_view_module_version": "1.2.0",
            "_model_module": "@jupyter-widgets/controls"
          }
        },
        "ab6669e7109f441c9d8103db1ff96d0f": {
          "model_module": "@jupyter-widgets/base",
          "model_name": "LayoutModel",
          "state": {
            "_view_name": "LayoutView",
            "grid_template_rows": null,
            "right": null,
            "justify_content": null,
            "_view_module": "@jupyter-widgets/base",
            "overflow": null,
            "_model_module_version": "1.2.0",
            "_view_count": null,
            "flex_flow": null,
            "width": null,
            "min_width": null,
            "border": null,
            "align_items": null,
            "bottom": null,
            "_model_module": "@jupyter-widgets/base",
            "top": null,
            "grid_column": null,
            "overflow_y": null,
            "overflow_x": null,
            "grid_auto_flow": null,
            "grid_area": null,
            "grid_template_columns": null,
            "flex": null,
            "_model_name": "LayoutModel",
            "justify_items": null,
            "grid_row": null,
            "max_height": null,
            "align_content": null,
            "visibility": null,
            "align_self": null,
            "height": null,
            "min_height": null,
            "padding": null,
            "grid_auto_rows": null,
            "grid_gap": null,
            "max_width": null,
            "order": null,
            "_view_module_version": "1.2.0",
            "grid_template_areas": null,
            "object_position": null,
            "object_fit": null,
            "grid_auto_columns": null,
            "margin": null,
            "display": null,
            "left": null
          }
        },
        "227934078d8646c8ac31ea488570b241": {
          "model_module": "@jupyter-widgets/controls",
          "model_name": "HBoxModel",
          "state": {
            "_view_name": "HBoxView",
            "_dom_classes": [],
            "_model_name": "HBoxModel",
            "_view_module": "@jupyter-widgets/controls",
            "_model_module_version": "1.5.0",
            "_view_count": null,
            "_view_module_version": "1.5.0",
            "box_style": "",
            "layout": "IPY_MODEL_a79c54e66a384b52ad4bf9cc92dbc27d",
            "_model_module": "@jupyter-widgets/controls",
            "children": [
              "IPY_MODEL_4778fce0e6fa4991801cca64eb6a7b74",
              "IPY_MODEL_8210c8c97fdd4ae4bdab1d00bf92020a"
            ]
          }
        },
        "a79c54e66a384b52ad4bf9cc92dbc27d": {
          "model_module": "@jupyter-widgets/base",
          "model_name": "LayoutModel",
          "state": {
            "_view_name": "LayoutView",
            "grid_template_rows": null,
            "right": null,
            "justify_content": null,
            "_view_module": "@jupyter-widgets/base",
            "overflow": null,
            "_model_module_version": "1.2.0",
            "_view_count": null,
            "flex_flow": null,
            "width": null,
            "min_width": null,
            "border": null,
            "align_items": null,
            "bottom": null,
            "_model_module": "@jupyter-widgets/base",
            "top": null,
            "grid_column": null,
            "overflow_y": null,
            "overflow_x": null,
            "grid_auto_flow": null,
            "grid_area": null,
            "grid_template_columns": null,
            "flex": null,
            "_model_name": "LayoutModel",
            "justify_items": null,
            "grid_row": null,
            "max_height": null,
            "align_content": null,
            "visibility": null,
            "align_self": null,
            "height": null,
            "min_height": null,
            "padding": null,
            "grid_auto_rows": null,
            "grid_gap": null,
            "max_width": null,
            "order": null,
            "_view_module_version": "1.2.0",
            "grid_template_areas": null,
            "object_position": null,
            "object_fit": null,
            "grid_auto_columns": null,
            "margin": null,
            "display": null,
            "left": null
          }
        },
        "4778fce0e6fa4991801cca64eb6a7b74": {
          "model_module": "@jupyter-widgets/controls",
          "model_name": "IntProgressModel",
          "state": {
            "_view_name": "ProgressView",
            "style": "IPY_MODEL_001219ce39814df686acd0c7727fa6f1",
            "_dom_classes": [],
            "description": "Train Epoch: 1 [2060/6200 (99%)]\tLoss: 0.416830: ",
            "_model_name": "IntProgressModel",
            "bar_style": "success",
            "max": 1,
            "_view_module": "@jupyter-widgets/controls",
            "_model_module_version": "1.5.0",
            "value": 1,
            "_view_count": null,
            "_view_module_version": "1.5.0",
            "orientation": "horizontal",
            "min": 0,
            "description_tooltip": null,
            "_model_module": "@jupyter-widgets/controls",
            "layout": "IPY_MODEL_d80922d320cd455a8a9ab7823d164ce9"
          }
        },
        "8210c8c97fdd4ae4bdab1d00bf92020a": {
          "model_module": "@jupyter-widgets/controls",
          "model_name": "HTMLModel",
          "state": {
            "_view_name": "HTMLView",
            "style": "IPY_MODEL_d0ac3bccb5b048338b8c23da38968a7a",
            "_dom_classes": [],
            "description": "",
            "_model_name": "HTMLModel",
            "placeholder": "​",
            "_view_module": "@jupyter-widgets/controls",
            "_model_module_version": "1.5.0",
            "value": " 104/? [13:02&lt;00:00,  7.53s/it]",
            "_view_count": null,
            "_view_module_version": "1.5.0",
            "description_tooltip": null,
            "_model_module": "@jupyter-widgets/controls",
            "layout": "IPY_MODEL_2d22a5700dab40328845de088824d3f9"
          }
        },
        "001219ce39814df686acd0c7727fa6f1": {
          "model_module": "@jupyter-widgets/controls",
          "model_name": "ProgressStyleModel",
          "state": {
            "_view_name": "StyleView",
            "_model_name": "ProgressStyleModel",
            "description_width": "initial",
            "_view_module": "@jupyter-widgets/base",
            "_model_module_version": "1.5.0",
            "_view_count": null,
            "_view_module_version": "1.2.0",
            "bar_color": null,
            "_model_module": "@jupyter-widgets/controls"
          }
        },
        "d80922d320cd455a8a9ab7823d164ce9": {
          "model_module": "@jupyter-widgets/base",
          "model_name": "LayoutModel",
          "state": {
            "_view_name": "LayoutView",
            "grid_template_rows": null,
            "right": null,
            "justify_content": null,
            "_view_module": "@jupyter-widgets/base",
            "overflow": null,
            "_model_module_version": "1.2.0",
            "_view_count": null,
            "flex_flow": null,
            "width": null,
            "min_width": null,
            "border": null,
            "align_items": null,
            "bottom": null,
            "_model_module": "@jupyter-widgets/base",
            "top": null,
            "grid_column": null,
            "overflow_y": null,
            "overflow_x": null,
            "grid_auto_flow": null,
            "grid_area": null,
            "grid_template_columns": null,
            "flex": null,
            "_model_name": "LayoutModel",
            "justify_items": null,
            "grid_row": null,
            "max_height": null,
            "align_content": null,
            "visibility": null,
            "align_self": null,
            "height": null,
            "min_height": null,
            "padding": null,
            "grid_auto_rows": null,
            "grid_gap": null,
            "max_width": null,
            "order": null,
            "_view_module_version": "1.2.0",
            "grid_template_areas": null,
            "object_position": null,
            "object_fit": null,
            "grid_auto_columns": null,
            "margin": null,
            "display": null,
            "left": null
          }
        },
        "d0ac3bccb5b048338b8c23da38968a7a": {
          "model_module": "@jupyter-widgets/controls",
          "model_name": "DescriptionStyleModel",
          "state": {
            "_view_name": "StyleView",
            "_model_name": "DescriptionStyleModel",
            "description_width": "",
            "_view_module": "@jupyter-widgets/base",
            "_model_module_version": "1.5.0",
            "_view_count": null,
            "_view_module_version": "1.2.0",
            "_model_module": "@jupyter-widgets/controls"
          }
        },
        "2d22a5700dab40328845de088824d3f9": {
          "model_module": "@jupyter-widgets/base",
          "model_name": "LayoutModel",
          "state": {
            "_view_name": "LayoutView",
            "grid_template_rows": null,
            "right": null,
            "justify_content": null,
            "_view_module": "@jupyter-widgets/base",
            "overflow": null,
            "_model_module_version": "1.2.0",
            "_view_count": null,
            "flex_flow": null,
            "width": null,
            "min_width": null,
            "border": null,
            "align_items": null,
            "bottom": null,
            "_model_module": "@jupyter-widgets/base",
            "top": null,
            "grid_column": null,
            "overflow_y": null,
            "overflow_x": null,
            "grid_auto_flow": null,
            "grid_area": null,
            "grid_template_columns": null,
            "flex": null,
            "_model_name": "LayoutModel",
            "justify_items": null,
            "grid_row": null,
            "max_height": null,
            "align_content": null,
            "visibility": null,
            "align_self": null,
            "height": null,
            "min_height": null,
            "padding": null,
            "grid_auto_rows": null,
            "grid_gap": null,
            "max_width": null,
            "order": null,
            "_view_module_version": "1.2.0",
            "grid_template_areas": null,
            "object_position": null,
            "object_fit": null,
            "grid_auto_columns": null,
            "margin": null,
            "display": null,
            "left": null
          }
        },
        "b0b60fc76cc64113a8231af3ac7449bf": {
          "model_module": "@jupyter-widgets/controls",
          "model_name": "HBoxModel",
          "state": {
            "_view_name": "HBoxView",
            "_dom_classes": [],
            "_model_name": "HBoxModel",
            "_view_module": "@jupyter-widgets/controls",
            "_model_module_version": "1.5.0",
            "_view_count": null,
            "_view_module_version": "1.5.0",
            "box_style": "",
            "layout": "IPY_MODEL_6aee8d5e7550419fbf5d21f7b6c8f8b1",
            "_model_module": "@jupyter-widgets/controls",
            "children": [
              "IPY_MODEL_7c620186abfb4ae5b7455ba3e943bb0e",
              "IPY_MODEL_71df0fecf6604ff19a1ecec1a10dde33"
            ]
          }
        },
        "6aee8d5e7550419fbf5d21f7b6c8f8b1": {
          "model_module": "@jupyter-widgets/base",
          "model_name": "LayoutModel",
          "state": {
            "_view_name": "LayoutView",
            "grid_template_rows": null,
            "right": null,
            "justify_content": null,
            "_view_module": "@jupyter-widgets/base",
            "overflow": null,
            "_model_module_version": "1.2.0",
            "_view_count": null,
            "flex_flow": null,
            "width": null,
            "min_width": null,
            "border": null,
            "align_items": null,
            "bottom": null,
            "_model_module": "@jupyter-widgets/base",
            "top": null,
            "grid_column": null,
            "overflow_y": null,
            "overflow_x": null,
            "grid_auto_flow": null,
            "grid_area": null,
            "grid_template_columns": null,
            "flex": null,
            "_model_name": "LayoutModel",
            "justify_items": null,
            "grid_row": null,
            "max_height": null,
            "align_content": null,
            "visibility": null,
            "align_self": null,
            "height": null,
            "min_height": null,
            "padding": null,
            "grid_auto_rows": null,
            "grid_gap": null,
            "max_width": null,
            "order": null,
            "_view_module_version": "1.2.0",
            "grid_template_areas": null,
            "object_position": null,
            "object_fit": null,
            "grid_auto_columns": null,
            "margin": null,
            "display": null,
            "left": null
          }
        },
        "7c620186abfb4ae5b7455ba3e943bb0e": {
          "model_module": "@jupyter-widgets/controls",
          "model_name": "IntProgressModel",
          "state": {
            "_view_name": "ProgressView",
            "style": "IPY_MODEL_a884f7921b2b4b618b456b5b5d075955",
            "_dom_classes": [],
            "description": "Train Epoch: 2 [2060/6200 (99%)]\tLoss: 0.175838: ",
            "_model_name": "IntProgressModel",
            "bar_style": "success",
            "max": 1,
            "_view_module": "@jupyter-widgets/controls",
            "_model_module_version": "1.5.0",
            "value": 1,
            "_view_count": null,
            "_view_module_version": "1.5.0",
            "orientation": "horizontal",
            "min": 0,
            "description_tooltip": null,
            "_model_module": "@jupyter-widgets/controls",
            "layout": "IPY_MODEL_fd87d01a949b4a58b0da4e5f603fad59"
          }
        },
        "71df0fecf6604ff19a1ecec1a10dde33": {
          "model_module": "@jupyter-widgets/controls",
          "model_name": "HTMLModel",
          "state": {
            "_view_name": "HTMLView",
            "style": "IPY_MODEL_304fcebeae804a72b000e35823b08c13",
            "_dom_classes": [],
            "description": "",
            "_model_name": "HTMLModel",
            "placeholder": "​",
            "_view_module": "@jupyter-widgets/controls",
            "_model_module_version": "1.5.0",
            "value": " 104/? [09:48&lt;00:00,  5.66s/it]",
            "_view_count": null,
            "_view_module_version": "1.5.0",
            "description_tooltip": null,
            "_model_module": "@jupyter-widgets/controls",
            "layout": "IPY_MODEL_fd038495cfbe4a76b013cbabb7025ef9"
          }
        },
        "a884f7921b2b4b618b456b5b5d075955": {
          "model_module": "@jupyter-widgets/controls",
          "model_name": "ProgressStyleModel",
          "state": {
            "_view_name": "StyleView",
            "_model_name": "ProgressStyleModel",
            "description_width": "initial",
            "_view_module": "@jupyter-widgets/base",
            "_model_module_version": "1.5.0",
            "_view_count": null,
            "_view_module_version": "1.2.0",
            "bar_color": null,
            "_model_module": "@jupyter-widgets/controls"
          }
        },
        "fd87d01a949b4a58b0da4e5f603fad59": {
          "model_module": "@jupyter-widgets/base",
          "model_name": "LayoutModel",
          "state": {
            "_view_name": "LayoutView",
            "grid_template_rows": null,
            "right": null,
            "justify_content": null,
            "_view_module": "@jupyter-widgets/base",
            "overflow": null,
            "_model_module_version": "1.2.0",
            "_view_count": null,
            "flex_flow": null,
            "width": null,
            "min_width": null,
            "border": null,
            "align_items": null,
            "bottom": null,
            "_model_module": "@jupyter-widgets/base",
            "top": null,
            "grid_column": null,
            "overflow_y": null,
            "overflow_x": null,
            "grid_auto_flow": null,
            "grid_area": null,
            "grid_template_columns": null,
            "flex": null,
            "_model_name": "LayoutModel",
            "justify_items": null,
            "grid_row": null,
            "max_height": null,
            "align_content": null,
            "visibility": null,
            "align_self": null,
            "height": null,
            "min_height": null,
            "padding": null,
            "grid_auto_rows": null,
            "grid_gap": null,
            "max_width": null,
            "order": null,
            "_view_module_version": "1.2.0",
            "grid_template_areas": null,
            "object_position": null,
            "object_fit": null,
            "grid_auto_columns": null,
            "margin": null,
            "display": null,
            "left": null
          }
        },
        "304fcebeae804a72b000e35823b08c13": {
          "model_module": "@jupyter-widgets/controls",
          "model_name": "DescriptionStyleModel",
          "state": {
            "_view_name": "StyleView",
            "_model_name": "DescriptionStyleModel",
            "description_width": "",
            "_view_module": "@jupyter-widgets/base",
            "_model_module_version": "1.5.0",
            "_view_count": null,
            "_view_module_version": "1.2.0",
            "_model_module": "@jupyter-widgets/controls"
          }
        },
        "fd038495cfbe4a76b013cbabb7025ef9": {
          "model_module": "@jupyter-widgets/base",
          "model_name": "LayoutModel",
          "state": {
            "_view_name": "LayoutView",
            "grid_template_rows": null,
            "right": null,
            "justify_content": null,
            "_view_module": "@jupyter-widgets/base",
            "overflow": null,
            "_model_module_version": "1.2.0",
            "_view_count": null,
            "flex_flow": null,
            "width": null,
            "min_width": null,
            "border": null,
            "align_items": null,
            "bottom": null,
            "_model_module": "@jupyter-widgets/base",
            "top": null,
            "grid_column": null,
            "overflow_y": null,
            "overflow_x": null,
            "grid_auto_flow": null,
            "grid_area": null,
            "grid_template_columns": null,
            "flex": null,
            "_model_name": "LayoutModel",
            "justify_items": null,
            "grid_row": null,
            "max_height": null,
            "align_content": null,
            "visibility": null,
            "align_self": null,
            "height": null,
            "min_height": null,
            "padding": null,
            "grid_auto_rows": null,
            "grid_gap": null,
            "max_width": null,
            "order": null,
            "_view_module_version": "1.2.0",
            "grid_template_areas": null,
            "object_position": null,
            "object_fit": null,
            "grid_auto_columns": null,
            "margin": null,
            "display": null,
            "left": null
          }
        },
        "532053da3b1443b6823e8de7c8addfa1": {
          "model_module": "@jupyter-widgets/controls",
          "model_name": "HBoxModel",
          "state": {
            "_view_name": "HBoxView",
            "_dom_classes": [],
            "_model_name": "HBoxModel",
            "_view_module": "@jupyter-widgets/controls",
            "_model_module_version": "1.5.0",
            "_view_count": null,
            "_view_module_version": "1.5.0",
            "box_style": "",
            "layout": "IPY_MODEL_ef1e8ec32b9245ceba14a1f1692a2800",
            "_model_module": "@jupyter-widgets/controls",
            "children": [
              "IPY_MODEL_220964a3aa9b43aebb87f17d081bacfe",
              "IPY_MODEL_dd9194d4389e4af1a87712940e6152f6"
            ]
          }
        },
        "ef1e8ec32b9245ceba14a1f1692a2800": {
          "model_module": "@jupyter-widgets/base",
          "model_name": "LayoutModel",
          "state": {
            "_view_name": "LayoutView",
            "grid_template_rows": null,
            "right": null,
            "justify_content": null,
            "_view_module": "@jupyter-widgets/base",
            "overflow": null,
            "_model_module_version": "1.2.0",
            "_view_count": null,
            "flex_flow": null,
            "width": null,
            "min_width": null,
            "border": null,
            "align_items": null,
            "bottom": null,
            "_model_module": "@jupyter-widgets/base",
            "top": null,
            "grid_column": null,
            "overflow_y": null,
            "overflow_x": null,
            "grid_auto_flow": null,
            "grid_area": null,
            "grid_template_columns": null,
            "flex": null,
            "_model_name": "LayoutModel",
            "justify_items": null,
            "grid_row": null,
            "max_height": null,
            "align_content": null,
            "visibility": null,
            "align_self": null,
            "height": null,
            "min_height": null,
            "padding": null,
            "grid_auto_rows": null,
            "grid_gap": null,
            "max_width": null,
            "order": null,
            "_view_module_version": "1.2.0",
            "grid_template_areas": null,
            "object_position": null,
            "object_fit": null,
            "grid_auto_columns": null,
            "margin": null,
            "display": null,
            "left": null
          }
        },
        "220964a3aa9b43aebb87f17d081bacfe": {
          "model_module": "@jupyter-widgets/controls",
          "model_name": "IntProgressModel",
          "state": {
            "_view_name": "ProgressView",
            "style": "IPY_MODEL_4132064d46894db8bfca4fcdbbcb313b",
            "_dom_classes": [],
            "description": "Train Epoch: 3 [2060/6200 (99%)]\tLoss: 0.428927: ",
            "_model_name": "IntProgressModel",
            "bar_style": "success",
            "max": 1,
            "_view_module": "@jupyter-widgets/controls",
            "_model_module_version": "1.5.0",
            "value": 1,
            "_view_count": null,
            "_view_module_version": "1.5.0",
            "orientation": "horizontal",
            "min": 0,
            "description_tooltip": null,
            "_model_module": "@jupyter-widgets/controls",
            "layout": "IPY_MODEL_9b73ade80551473db2ab0ed2c335485a"
          }
        },
        "dd9194d4389e4af1a87712940e6152f6": {
          "model_module": "@jupyter-widgets/controls",
          "model_name": "HTMLModel",
          "state": {
            "_view_name": "HTMLView",
            "style": "IPY_MODEL_f62da256d4574fd39b23b8e1368c3866",
            "_dom_classes": [],
            "description": "",
            "_model_name": "HTMLModel",
            "placeholder": "​",
            "_view_module": "@jupyter-widgets/controls",
            "_model_module_version": "1.5.0",
            "value": " 104/? [06:32&lt;00:00,  3.78s/it]",
            "_view_count": null,
            "_view_module_version": "1.5.0",
            "description_tooltip": null,
            "_model_module": "@jupyter-widgets/controls",
            "layout": "IPY_MODEL_0d0dd25754fd475eae31056253c0e51a"
          }
        },
        "4132064d46894db8bfca4fcdbbcb313b": {
          "model_module": "@jupyter-widgets/controls",
          "model_name": "ProgressStyleModel",
          "state": {
            "_view_name": "StyleView",
            "_model_name": "ProgressStyleModel",
            "description_width": "initial",
            "_view_module": "@jupyter-widgets/base",
            "_model_module_version": "1.5.0",
            "_view_count": null,
            "_view_module_version": "1.2.0",
            "bar_color": null,
            "_model_module": "@jupyter-widgets/controls"
          }
        },
        "9b73ade80551473db2ab0ed2c335485a": {
          "model_module": "@jupyter-widgets/base",
          "model_name": "LayoutModel",
          "state": {
            "_view_name": "LayoutView",
            "grid_template_rows": null,
            "right": null,
            "justify_content": null,
            "_view_module": "@jupyter-widgets/base",
            "overflow": null,
            "_model_module_version": "1.2.0",
            "_view_count": null,
            "flex_flow": null,
            "width": null,
            "min_width": null,
            "border": null,
            "align_items": null,
            "bottom": null,
            "_model_module": "@jupyter-widgets/base",
            "top": null,
            "grid_column": null,
            "overflow_y": null,
            "overflow_x": null,
            "grid_auto_flow": null,
            "grid_area": null,
            "grid_template_columns": null,
            "flex": null,
            "_model_name": "LayoutModel",
            "justify_items": null,
            "grid_row": null,
            "max_height": null,
            "align_content": null,
            "visibility": null,
            "align_self": null,
            "height": null,
            "min_height": null,
            "padding": null,
            "grid_auto_rows": null,
            "grid_gap": null,
            "max_width": null,
            "order": null,
            "_view_module_version": "1.2.0",
            "grid_template_areas": null,
            "object_position": null,
            "object_fit": null,
            "grid_auto_columns": null,
            "margin": null,
            "display": null,
            "left": null
          }
        },
        "f62da256d4574fd39b23b8e1368c3866": {
          "model_module": "@jupyter-widgets/controls",
          "model_name": "DescriptionStyleModel",
          "state": {
            "_view_name": "StyleView",
            "_model_name": "DescriptionStyleModel",
            "description_width": "",
            "_view_module": "@jupyter-widgets/base",
            "_model_module_version": "1.5.0",
            "_view_count": null,
            "_view_module_version": "1.2.0",
            "_model_module": "@jupyter-widgets/controls"
          }
        },
        "0d0dd25754fd475eae31056253c0e51a": {
          "model_module": "@jupyter-widgets/base",
          "model_name": "LayoutModel",
          "state": {
            "_view_name": "LayoutView",
            "grid_template_rows": null,
            "right": null,
            "justify_content": null,
            "_view_module": "@jupyter-widgets/base",
            "overflow": null,
            "_model_module_version": "1.2.0",
            "_view_count": null,
            "flex_flow": null,
            "width": null,
            "min_width": null,
            "border": null,
            "align_items": null,
            "bottom": null,
            "_model_module": "@jupyter-widgets/base",
            "top": null,
            "grid_column": null,
            "overflow_y": null,
            "overflow_x": null,
            "grid_auto_flow": null,
            "grid_area": null,
            "grid_template_columns": null,
            "flex": null,
            "_model_name": "LayoutModel",
            "justify_items": null,
            "grid_row": null,
            "max_height": null,
            "align_content": null,
            "visibility": null,
            "align_self": null,
            "height": null,
            "min_height": null,
            "padding": null,
            "grid_auto_rows": null,
            "grid_gap": null,
            "max_width": null,
            "order": null,
            "_view_module_version": "1.2.0",
            "grid_template_areas": null,
            "object_position": null,
            "object_fit": null,
            "grid_auto_columns": null,
            "margin": null,
            "display": null,
            "left": null
          }
        },
        "aa62042fc0ca4ca0b7c77828e2374bec": {
          "model_module": "@jupyter-widgets/controls",
          "model_name": "HBoxModel",
          "state": {
            "_view_name": "HBoxView",
            "_dom_classes": [],
            "_model_name": "HBoxModel",
            "_view_module": "@jupyter-widgets/controls",
            "_model_module_version": "1.5.0",
            "_view_count": null,
            "_view_module_version": "1.5.0",
            "box_style": "",
            "layout": "IPY_MODEL_7bece51248554cf49fc223691d612ecb",
            "_model_module": "@jupyter-widgets/controls",
            "children": [
              "IPY_MODEL_1d067436a7764a8c81055a557b3d4377",
              "IPY_MODEL_33e23bdb745e4d77aa23fdee4848607f"
            ]
          }
        },
        "7bece51248554cf49fc223691d612ecb": {
          "model_module": "@jupyter-widgets/base",
          "model_name": "LayoutModel",
          "state": {
            "_view_name": "LayoutView",
            "grid_template_rows": null,
            "right": null,
            "justify_content": null,
            "_view_module": "@jupyter-widgets/base",
            "overflow": null,
            "_model_module_version": "1.2.0",
            "_view_count": null,
            "flex_flow": null,
            "width": null,
            "min_width": null,
            "border": null,
            "align_items": null,
            "bottom": null,
            "_model_module": "@jupyter-widgets/base",
            "top": null,
            "grid_column": null,
            "overflow_y": null,
            "overflow_x": null,
            "grid_auto_flow": null,
            "grid_area": null,
            "grid_template_columns": null,
            "flex": null,
            "_model_name": "LayoutModel",
            "justify_items": null,
            "grid_row": null,
            "max_height": null,
            "align_content": null,
            "visibility": null,
            "align_self": null,
            "height": null,
            "min_height": null,
            "padding": null,
            "grid_auto_rows": null,
            "grid_gap": null,
            "max_width": null,
            "order": null,
            "_view_module_version": "1.2.0",
            "grid_template_areas": null,
            "object_position": null,
            "object_fit": null,
            "grid_auto_columns": null,
            "margin": null,
            "display": null,
            "left": null
          }
        },
        "1d067436a7764a8c81055a557b3d4377": {
          "model_module": "@jupyter-widgets/controls",
          "model_name": "IntProgressModel",
          "state": {
            "_view_name": "ProgressView",
            "style": "IPY_MODEL_16ed582d26a143fea34901107265f58c",
            "_dom_classes": [],
            "description": "Train Epoch: 4 [2060/6200 (99%)]\tLoss: 0.184552: ",
            "_model_name": "IntProgressModel",
            "bar_style": "success",
            "max": 1,
            "_view_module": "@jupyter-widgets/controls",
            "_model_module_version": "1.5.0",
            "value": 1,
            "_view_count": null,
            "_view_module_version": "1.5.0",
            "orientation": "horizontal",
            "min": 0,
            "description_tooltip": null,
            "_model_module": "@jupyter-widgets/controls",
            "layout": "IPY_MODEL_575c59455d194d16b4c99ed025befd9b"
          }
        },
        "33e23bdb745e4d77aa23fdee4848607f": {
          "model_module": "@jupyter-widgets/controls",
          "model_name": "HTMLModel",
          "state": {
            "_view_name": "HTMLView",
            "style": "IPY_MODEL_f060efb3d2b54148a02986958d9dcbf5",
            "_dom_classes": [],
            "description": "",
            "_model_name": "HTMLModel",
            "placeholder": "​",
            "_view_module": "@jupyter-widgets/controls",
            "_model_module_version": "1.5.0",
            "value": " 104/? [03:46&lt;00:00,  2.18s/it]",
            "_view_count": null,
            "_view_module_version": "1.5.0",
            "description_tooltip": null,
            "_model_module": "@jupyter-widgets/controls",
            "layout": "IPY_MODEL_209ba50721b54ab484027577ecbfedaf"
          }
        },
        "16ed582d26a143fea34901107265f58c": {
          "model_module": "@jupyter-widgets/controls",
          "model_name": "ProgressStyleModel",
          "state": {
            "_view_name": "StyleView",
            "_model_name": "ProgressStyleModel",
            "description_width": "initial",
            "_view_module": "@jupyter-widgets/base",
            "_model_module_version": "1.5.0",
            "_view_count": null,
            "_view_module_version": "1.2.0",
            "bar_color": null,
            "_model_module": "@jupyter-widgets/controls"
          }
        },
        "575c59455d194d16b4c99ed025befd9b": {
          "model_module": "@jupyter-widgets/base",
          "model_name": "LayoutModel",
          "state": {
            "_view_name": "LayoutView",
            "grid_template_rows": null,
            "right": null,
            "justify_content": null,
            "_view_module": "@jupyter-widgets/base",
            "overflow": null,
            "_model_module_version": "1.2.0",
            "_view_count": null,
            "flex_flow": null,
            "width": null,
            "min_width": null,
            "border": null,
            "align_items": null,
            "bottom": null,
            "_model_module": "@jupyter-widgets/base",
            "top": null,
            "grid_column": null,
            "overflow_y": null,
            "overflow_x": null,
            "grid_auto_flow": null,
            "grid_area": null,
            "grid_template_columns": null,
            "flex": null,
            "_model_name": "LayoutModel",
            "justify_items": null,
            "grid_row": null,
            "max_height": null,
            "align_content": null,
            "visibility": null,
            "align_self": null,
            "height": null,
            "min_height": null,
            "padding": null,
            "grid_auto_rows": null,
            "grid_gap": null,
            "max_width": null,
            "order": null,
            "_view_module_version": "1.2.0",
            "grid_template_areas": null,
            "object_position": null,
            "object_fit": null,
            "grid_auto_columns": null,
            "margin": null,
            "display": null,
            "left": null
          }
        },
        "f060efb3d2b54148a02986958d9dcbf5": {
          "model_module": "@jupyter-widgets/controls",
          "model_name": "DescriptionStyleModel",
          "state": {
            "_view_name": "StyleView",
            "_model_name": "DescriptionStyleModel",
            "description_width": "",
            "_view_module": "@jupyter-widgets/base",
            "_model_module_version": "1.5.0",
            "_view_count": null,
            "_view_module_version": "1.2.0",
            "_model_module": "@jupyter-widgets/controls"
          }
        },
        "209ba50721b54ab484027577ecbfedaf": {
          "model_module": "@jupyter-widgets/base",
          "model_name": "LayoutModel",
          "state": {
            "_view_name": "LayoutView",
            "grid_template_rows": null,
            "right": null,
            "justify_content": null,
            "_view_module": "@jupyter-widgets/base",
            "overflow": null,
            "_model_module_version": "1.2.0",
            "_view_count": null,
            "flex_flow": null,
            "width": null,
            "min_width": null,
            "border": null,
            "align_items": null,
            "bottom": null,
            "_model_module": "@jupyter-widgets/base",
            "top": null,
            "grid_column": null,
            "overflow_y": null,
            "overflow_x": null,
            "grid_auto_flow": null,
            "grid_area": null,
            "grid_template_columns": null,
            "flex": null,
            "_model_name": "LayoutModel",
            "justify_items": null,
            "grid_row": null,
            "max_height": null,
            "align_content": null,
            "visibility": null,
            "align_self": null,
            "height": null,
            "min_height": null,
            "padding": null,
            "grid_auto_rows": null,
            "grid_gap": null,
            "max_width": null,
            "order": null,
            "_view_module_version": "1.2.0",
            "grid_template_areas": null,
            "object_position": null,
            "object_fit": null,
            "grid_auto_columns": null,
            "margin": null,
            "display": null,
            "left": null
          }
        }
      }
    }
  },
  "cells": [
    {
      "cell_type": "markdown",
      "metadata": {
        "id": "view-in-github",
        "colab_type": "text"
      },
      "source": [
        "<a href=\"https://colab.research.google.com/github/imkhubaibraza/MSDS19064_COVID19_DLSpring2020/blob/master/Final_covid_task_02_task.ipynb\" target=\"_parent\"><img src=\"https://colab.research.google.com/assets/colab-badge.svg\" alt=\"Open In Colab\"/></a>"
      ]
    },
    {
      "cell_type": "markdown",
      "metadata": {
        "id": "VMh5WpfwEolM",
        "colab_type": "text"
      },
      "source": [
        "#### Initilization Notebook"
      ]
    },
    {
      "cell_type": "code",
      "metadata": {
        "id": "FlGF-0Lh94aT",
        "colab_type": "code",
        "outputId": "71e6a928-dbb5-4b68-826a-e8c4b3700988",
        "colab": {
          "base_uri": "https://localhost:8080/",
          "height": 122
        }
      },
      "source": [
        "from google.colab import drive\n",
        "drive.mount('/content/drive')"
      ],
      "execution_count": 1,
      "outputs": [
        {
          "output_type": "stream",
          "text": [
            "Go to this URL in a browser: https://accounts.google.com/o/oauth2/auth?client_id=947318989803-6bn6qk8qdgf4n4g3pfee6491hc0brc4i.apps.googleusercontent.com&redirect_uri=urn%3aietf%3awg%3aoauth%3a2.0%3aoob&response_type=code&scope=email%20https%3a%2f%2fwww.googleapis.com%2fauth%2fdocs.test%20https%3a%2f%2fwww.googleapis.com%2fauth%2fdrive%20https%3a%2f%2fwww.googleapis.com%2fauth%2fdrive.photos.readonly%20https%3a%2f%2fwww.googleapis.com%2fauth%2fpeopleapi.readonly\n",
            "\n",
            "Enter your authorization code:\n",
            "··········\n",
            "Mounted at /content/drive\n"
          ],
          "name": "stdout"
        }
      ]
    },
    {
      "cell_type": "markdown",
      "metadata": {
        "id": "bB-BttAEwSla",
        "colab_type": "text"
      },
      "source": [
        "### Importing libraries"
      ]
    },
    {
      "cell_type": "code",
      "metadata": {
        "id": "UcZu_f3vYsLo",
        "colab_type": "code",
        "colab": {}
      },
      "source": [
        "# !unzip -q \"/content/drive/My Drive/DL-05/part-02/A_05_Part_02_Dataset.zip\" -d \"data\""
      ],
      "execution_count": 0,
      "outputs": []
    },
    {
      "cell_type": "code",
      "metadata": {
        "id": "A5jm3lNzroEE",
        "colab_type": "code",
        "colab": {
          "base_uri": "https://localhost:8080/",
          "height": 71
        },
        "outputId": "d11a8370-c3f4-44e3-9c8f-08845b919afb"
      },
      "source": [
        "import torch\n",
        "import torch.nn as nn\n",
        "import torch.nn.functional as F\n",
        "import torch.optim as optim\n",
        "from torch.optim import lr_scheduler\n",
        "from torch.autograd import Variable\n",
        "import numpy as np\n",
        "import torchvision\n",
        "from torchvision import datasets, models, transforms\n",
        "import matplotlib.pyplot as plt\n",
        "import time\n",
        "import os\n",
        "import copy\n",
        "import pandas as pd\n",
        "from tqdm.notebook import tqdm\n",
        "import seaborn as sns\n",
        "from sklearn.metrics import confusion_matrix,\\\n",
        "                            f1_score,multilabel_confusion_matrix,\\\n",
        "                            accuracy_score,precision_score,hamming_loss\n",
        "import warnings\n",
        "\n",
        "from torch.utils.data import Dataset\n",
        "warnings.filterwarnings(\"ignore\")"
      ],
      "execution_count": 2,
      "outputs": [
        {
          "output_type": "stream",
          "text": [
            "/usr/local/lib/python3.6/dist-packages/statsmodels/tools/_testing.py:19: FutureWarning: pandas.util.testing is deprecated. Use the functions in the public API at pandas.testing instead.\n",
            "  import pandas.util.testing as tm\n"
          ],
          "name": "stderr"
        }
      ]
    },
    {
      "cell_type": "markdown",
      "metadata": {
        "id": "Mc6-bIoixNXI",
        "colab_type": "text"
      },
      "source": [
        "### Loadaing Data Set"
      ]
    },
    {
      "cell_type": "code",
      "metadata": {
        "id": "SLRwmJriY4sw",
        "colab_type": "code",
        "outputId": "a15f18b5-55c6-4e1b-cad6-620fc2a1d163",
        "colab": {
          "base_uri": "https://localhost:8080/",
          "height": 51
        }
      },
      "source": [
        "device = torch.device(\"cuda:0\" if torch.cuda.is_available() else \"cpu\")\n",
        "\n",
        "data_path = '/content/drive/My Drive/DL-05/dataset2/A_05_Part_02_Dataset'\n",
        "#transforming data of train validation and test data\n",
        "train_transforms = transforms.Compose([transforms.RandomResizedCrop(224),\n",
        "                                       transforms.ToTensor(),\n",
        "                                       transforms.Normalize([0.485, 0.456, 0.406],\n",
        "                                                            [0.229, 0.224, 0.225])])\n",
        "val_transforms = transforms.Compose([transforms.Resize(256),\n",
        "                                      transforms.CenterCrop(224),\n",
        "                                      transforms.ToTensor(),\n",
        "                                      transforms.Normalize([0.485, 0.456, 0.406],\n",
        "                                                           [0.229, 0.224, 0.225])])\n",
        "#pass transform here-in\n",
        "train_data = datasets.ImageFolder(data_path + '/Train', transform=train_transforms)\n",
        "val_data = datasets.ImageFolder(data_path +'/Validation',transform=val_transforms )\n",
        "test_data = datasets.ImageFolder(data_path + '/Test', transform=val_transforms)\n",
        "#data loaders\n",
        "trainloader = torch.utils.data.DataLoader(train_data , num_workers=4,batch_size = 60,shuffle=True)\n",
        "testloader = torch.utils.data.DataLoader(test_data,num_workers=4,batch_size = 100,shuffle=True)\n",
        "valloader = torch.utils.data.DataLoader(val_data ,num_workers=4,batch_size = 100,shuffle = True)\n",
        "\n",
        "print(\"Classes: \")\n",
        "class_names = train_data.classes\n",
        "print(class_names)"
      ],
      "execution_count": 3,
      "outputs": [
        {
          "output_type": "stream",
          "text": [
            "Classes: \n",
            "['covid-19', 'normal', 'pneumonia']\n"
          ],
          "name": "stdout"
        }
      ]
    },
    {
      "cell_type": "markdown",
      "metadata": {
        "id": "4rHMWeYpAFww",
        "colab_type": "text"
      },
      "source": [
        "### Data Visualize"
      ]
    },
    {
      "cell_type": "code",
      "metadata": {
        "id": "5wce6KdQFQyk",
        "colab_type": "code",
        "colab": {}
      },
      "source": [
        "def total_dataset():\n",
        "    len_train = len(train_data)\n",
        "    # len_test = len(test_data)\n",
        "    len_valid = len(val_data)\n",
        "\n",
        "    print(\"Train Data:\",len_train,\" validation_data :\",len_valid)\n",
        "\n",
        "def imshow(inp, title=None):\n",
        "    inp = inp.numpy().transpose((1, 2, 0))\n",
        "    plt.axis('off')\n",
        "    plt.imshow(inp)\n",
        "    if title is not None:\n",
        "        plt.title(title)\n",
        "    plt.pause(0.01)\n",
        "\n",
        "def show_databatch(inputs, classes):\n",
        "    out = torchvision.utils.make_grid(inputs)\n",
        "    plt.figure(figsize=(15,8))\n",
        "    imshow(out, title=('                              ')\\\n",
        "           .join([class_names[x] for x in classes]))\n",
        "    \n"
      ],
      "execution_count": 0,
      "outputs": []
    },
    {
      "cell_type": "code",
      "metadata": {
        "id": "FLADQpES2PWm",
        "colab_type": "code",
        "colab": {
          "base_uri": "https://localhost:8080/",
          "height": 249
        },
        "outputId": "7fb71a5d-798f-4afa-9eb9-8eb68f18101d"
      },
      "source": [
        "total_dataset()\n",
        "# Get a batch of training data\n",
        "inputs, classes = next(iter(valloader))\n",
        "show_databatch(inputs[:5], classes[:5])"
      ],
      "execution_count": 7,
      "outputs": [
        {
          "output_type": "stream",
          "text": [
            "Train Data: 6200  validation_data : 628\n"
          ],
          "name": "stdout"
        },
        {
          "output_type": "stream",
          "text": [
            "Clipping input data to the valid range for imshow with RGB data ([0..1] for floats or [0..255] for integers).\n"
          ],
          "name": "stderr"
        },
        {
          "output_type": "display_data",
          "data": {
            "image/png": "[encoded data removed]",
            "text/plain": [
              "<Figure size 1080x576 with 1 Axes>"
            ]
          },
          "metadata": {
            "tags": [],
            "needs_background": "light"
          }
        }
      ]
    },
    {
      "cell_type": "markdown",
      "metadata": {
        "id": "5rki0MoBFBdx",
        "colab_type": "text"
      },
      "source": [
        "### User-Defined Functions"
      ]
    },
    {
      "cell_type": "code",
      "metadata": {
        "id": "MJrCGaMhte3H",
        "colab_type": "code",
        "colab": {}
      },
      "source": [
        "#Now we fereze the parameters\n",
        "def freeze_all_params(model_):\n",
        "    for param in model_.parameters():\n",
        "        param.requires_grad = False\n",
        "\n",
        "def parameters_show(model_):\n",
        "    for name, param in model_.named_parameters():\n",
        "        if param.requires_grad:\n",
        "            print(name)\n",
        "\n",
        "#plot accuracies curves using train history or test history\n",
        "def train_valid_loss_curve(total_train_loss,total_valid_loss):\n",
        "    plt.plot(total_train_loss)\n",
        "    plt.plot(total_valid_loss)\n",
        "    plt.legend(['Training Loss','Validation Loss'])\n",
        "    plt.title('Loss Curve over Epochs')\n",
        "    plt.xlabel('Epoch')\n",
        "    plt.ylabel('Cross Entropy Loss')\n",
        "    plt.show()\n",
        "\n",
        "#plot accuracies curves using train history or test history\n",
        "\n",
        "def train_valid_accuracy_curve(accuracy_train_history , accuracy_valid_history):\n",
        "\n",
        "    plt.title('Accuracy of Model')\n",
        "    plt.plot(accuracy_train_history, label='train')\n",
        "    plt.plot(accuracy_valid_history, label='Validate')\n",
        "    plt.xlabel('Epochs')\n",
        "    plt.ylabel('Accuracy')\n",
        "    plt.legend()\n",
        "    plt.show()\n",
        "\n",
        "def convert_multi_encode(labels_encode):\n",
        "    temp_list = []\n",
        "    for i,temp1 in enumerate(labels_encode):\n",
        "        if temp1 == 0:\n",
        "            temp = [1,0,1]\n",
        "        elif temp1 == 1:\n",
        "            temp = [0,1,0]\n",
        "        else:\n",
        "            temp = [0,0,1]\n",
        "        temp_list.append(temp)\n",
        "    new_labels = torch.from_numpy(np.array(temp_list)).cuda()\n",
        "    return new_labels\n",
        "\n",
        "\n",
        "def compute_csv_test(model_,testingloader):\n",
        "\n",
        "    temp_array = []\n",
        "    temp_images = []\n",
        "    with torch.no_grad():\n",
        "        for data in testingloader:\n",
        "            images, labels = data\n",
        "            \n",
        "            # labels = convert_multi_encode(labels)\n",
        "            images = images.to(device)\n",
        "\n",
        "            outputs = model_(images)\n",
        "            predicted = torch.round(torch.sigmoid(outputs))\n",
        "\n",
        "            pred = predicted[:, [0, 2, 1]] # Swapped columns of Normal to Pheneomonia\n",
        "            # for x in range():\n",
        "            # allArrays = np.concatenate([temp_array, pred.cpu()],axis = 0)\n",
        "            temp_array.append(pred.cpu())\n",
        "    return temp_array\n"
      ],
      "execution_count": 0,
      "outputs": []
    },
    {
      "cell_type": "markdown",
      "metadata": {
        "id": "_MkFYqcxBLaH",
        "colab_type": "text"
      },
      "source": [
        "Create Csv file"
      ]
    },
    {
      "cell_type": "code",
      "metadata": {
        "id": "alG2ll2WtU3_",
        "colab_type": "code",
        "outputId": "7f8b7ab2-7078-4fed-be06-47d0ce45454a",
        "colab": {
          "base_uri": "https://localhost:8080/",
          "height": 34
        }
      },
      "source": [
        "predication , image_names = compute_csv_test(resnet18 , valloader)\n",
        "predication = np.array([np.array(xi.cpu()) for xi in predication])\n",
        "predication = np.vstack(predication)\n",
        "\n",
        "df = pd.DataFrame(predictions)\n",
        "df[3] = image_names\n",
        "df = df[[3, 0, 1, 2]]\n",
        "df.to_csv('sample.csv',index=False , header=False)"
      ],
      "execution_count": 0,
      "outputs": [
        {
          "output_type": "execute_result",
          "data": {
            "text/plain": [
              "100"
            ]
          },
          "metadata": {
            "tags": []
          },
          "execution_count": 101
        }
      ]
    },
    {
      "cell_type": "markdown",
      "metadata": {
        "id": "13IUKv5MuA-p",
        "colab_type": "text"
      },
      "source": [
        "#### Model Testing function"
      ]
    },
    {
      "cell_type": "code",
      "metadata": {
        "id": "mN93Hmg4BFX6",
        "colab_type": "code",
        "colab": {}
      },
      "source": [
        "def compute_accuracy_test(model_,testingloader):\n",
        "    correct = 0\n",
        "    total = 0\n",
        "    pred_list = []\n",
        "    label_list = []\n",
        "\n",
        "    with torch.no_grad():\n",
        "        for data in testingloader:\n",
        "            images, labels = data\n",
        "            \n",
        "            labels = convert_multi_encode(labels)\n",
        "            images, labels = images.to(device), labels.to(device)\n",
        "\n",
        "            outputs = model_(images)\n",
        "            predicted = torch.round(torch.sigmoid(outputs))\n",
        "            # print(predicted)\n",
        "            total += labels.size(0)\n",
        "            correct += ((predicted == labels).all(axis=1)).sum().item()\n",
        "            \n",
        "\n",
        "            label_list.append(labels)\n",
        "            pred_list.append(predicted)\n",
        "    acc = 100 * correct / total\n",
        "    print('Accuracy of the network on test images:' , (acc))\n",
        "    return pred_list,label_list\n",
        "\n",
        "def conf_matrix(label , predication):\n",
        "    #Getting the confusion matrix\n",
        "    label = np.array([np.array(xi.cpu()) for xi in label])\n",
        "    label = np.vstack(label)\n",
        "    predication=np.array([np.array(xi.cpu()) for xi in predication])\n",
        "    predication = np.vstack(predication)\n",
        "\n",
        "    ham_score = hamming_loss(label, predication)\n",
        "    mat = multilabel_confusion_matrix(label, predication)\n",
        "    print(\"hamming loss:\" ,ham_score)\n",
        "    # print(confusion_matrix(label, predication))\n",
        "    # prec_score = precision_score(label, predication ,average='weighted')\n",
        "    F1_score = f1_score(label, predication ,average='weighted')\n",
        "    print(\"f1_score:\",F1_score)\n",
        "    return mat\n",
        "    \n",
        "# compute_accuracy_test(vgg16,valloader)\n",
        "# print(conf_matrix(label_list , pred_list))"
      ],
      "execution_count": 0,
      "outputs": []
    },
    {
      "cell_type": "markdown",
      "metadata": {
        "id": "Ox2gubaey3KU",
        "colab_type": "text"
      },
      "source": [
        "###### Defined Loss Function"
      ]
    },
    {
      "cell_type": "code",
      "metadata": {
        "id": "yDSuFZ7Wf8-8",
        "colab_type": "code",
        "colab": {}
      },
      "source": [
        "class FocalLoss(nn.Module):\n",
        "    def __init__(self, alpha=0.7, gamma=1.7):\n",
        "        super(FocalLoss, self).__init__()\n",
        "        self.alpha = alpha\n",
        "        self.gamma = gamma\n",
        "\n",
        "    def forward(self, inputs, targets):\n",
        "        \n",
        "        BCE_loss = F.binary_cross_entropy_with_logits(inputs, targets, reduce=False)\n",
        "        pt = torch.exp(-BCE_loss) #\n",
        "        focal_loss = self.alpha * (1-pt)**self.gamma * BCE_loss\n",
        "        return torch.mean(focal_loss)"
      ],
      "execution_count": 0,
      "outputs": []
    },
    {
      "cell_type": "markdown",
      "metadata": {
        "id": "mR2DOUBttv0H",
        "colab_type": "text"
      },
      "source": [
        "#### Model Training Methood"
      ]
    },
    {
      "cell_type": "code",
      "metadata": {
        "id": "DNc1zARctu8n",
        "colab_type": "code",
        "colab": {}
      },
      "source": [
        "def model_training(model_ ,trainingloader, validationloader, Epochs = 1 ,\\\n",
        "                   model_save_path = '/sample.pth',learning_rate = 0.001 ,\n",
        "                   alpha = 1 , gamma =0 , focal_loss = True ):\n",
        "\n",
        "    #first time init model\n",
        "    if not os.path.exists(model_save_path):\n",
        "        total_valid_loss = []\n",
        "        total_train_loss = []\n",
        "        total_valid_accuracy = []\n",
        "        total_train_accuracy = []\n",
        "    else: # loading models params\n",
        "        print(\"loading\")\n",
        "        com_model = torch.load(model_save_path)\n",
        "        model_.load_state_dict(com_model['model'])\n",
        "\n",
        "        total_valid_loss = com_model['total_valid_loss']\n",
        "        total_train_loss = com_model['total_train_loss']\n",
        "        total_valid_accuracy = com_model['total_valid_accuracy']\n",
        "        total_train_accuracy = com_model['total_train_accuracy']\n",
        "\n",
        "    criterion = FocalLoss(alpha, gamma )\n",
        "    optimizer = optim.Adam(model_.parameters())\n",
        "\n",
        "    device = torch.device(\"cuda:0\" if torch.cuda.is_available() else \"cpu\")\n",
        "    model_.to(device)\n",
        "    model_.train()\n",
        "\n",
        "    for epoch in range(Epochs):  \n",
        "\n",
        "        correct = 0\n",
        "        total = 0\n",
        "        running_loss = 0.0\n",
        "        bar = tqdm(enumerate(trainingloader))\n",
        "        \n",
        "        print(\"************* Epoch: %d\" %epoch,\"***************\" )\n",
        "\n",
        "        for i, data in bar:\n",
        "            \n",
        "            inputs,labels = data\n",
        "            labels = convert_multi_encode(labels)\n",
        "            inputs, labels = inputs.float().cuda() , labels\n",
        "\n",
        "            optimizer.zero_grad()\n",
        "            outputs = model_(inputs)  \n",
        "\n",
        "            labels = labels.type_as(outputs)\n",
        "\n",
        "            loss = criterion(outputs.float(), labels)   #----> compute loss\n",
        "\n",
        "            loss.backward()                     #----> backward pass\n",
        "            running_loss += loss.item()\n",
        "            \n",
        "            optimizer.step()                    #----> weights update\n",
        "            bar.set_description(\n",
        "                'Train Epoch: {} [{}/{} ({:.0f}%)]\\tLoss: {:.6f}'.format(\n",
        "                epoch, i * len(inputs), len(trainloader.dataset),\n",
        "                100. * i / len(trainloader),loss.data.item()))\n",
        "            \n",
        "\n",
        "            predicted = torch.round(torch.sigmoid(outputs))\n",
        "            total += labels.size(0)\n",
        "            correct += ((predicted == labels).all(axis=1)).sum().item()\n",
        "            # break\n",
        "        epoch_train_loss = running_loss/len(trainingloader)\n",
        "        epoch_train_acc = 100 * correct / total\n",
        "\n",
        "        print(\"\\nloss : \",epoch_train_loss, \"accuracy:\",epoch_train_acc)\n",
        "\n",
        "        total_train_loss.append(epoch_train_loss)\n",
        "        total_train_accuracy.append(epoch_train_acc)\n",
        "\n",
        "        # print(outputs)\n",
        "        correct = 0\n",
        "        total = 0\n",
        "        running_loss = 0.0\n",
        "\n",
        "        print('validation started....')\n",
        "        with torch.no_grad():\n",
        "            for data in validationloader:\n",
        "                inputs,labels = data\n",
        "                labels = convert_multi_encode(labels)\n",
        "                inputs, labels = inputs.float().cuda() , labels\n",
        "\n",
        "                optimizer.zero_grad()\n",
        "                outputs = model_(inputs)  \n",
        "\n",
        "                labels = labels.type_as(outputs)\n",
        "\n",
        "                test_loss = criterion(outputs, labels)\n",
        "                running_loss += test_loss.item()\n",
        "                \n",
        "                predicted = torch.round(torch.sigmoid(outputs))\n",
        "                # _, predicted = torch.max(outputs.data, 1)\n",
        "                total += labels.size(0)\n",
        "                correct += ((predicted == labels).all(axis=1)).sum().item()\n",
        "                # break\n",
        "        epoch_val_loss = running_loss/len(validationloader)\n",
        "        epoch_val_acc = 100 * correct / total\n",
        "\n",
        "        print(\"\\nloss : \",epoch_val_loss, \"accuracy:\",epoch_val_acc)\n",
        "\n",
        "        total_valid_loss.append(epoch_val_loss)\n",
        "        total_valid_accuracy.append(epoch_val_acc)\n",
        "        # print(outputs)\n",
        "\n",
        "    print('Finished Training')\n",
        "\n",
        "    params_dict = {'model':model_.state_dict(),\\\n",
        "               'total_train_loss':total_train_loss,\\\n",
        "               'total_valid_loss':total_valid_loss,\\\n",
        "               'total_train_accuracy':total_train_accuracy,\\\n",
        "               'total_valid_accuracy':total_valid_accuracy,\\\n",
        "               'Epochs':Epochs}\n",
        "    torch.save(params_dict, model_save_path)\n",
        "\n",
        "    train_valid_loss_curve(total_train_loss , total_valid_loss)\n",
        "    train_valid_accuracy_curve(total_train_accuracy, total_valid_accuracy)"
      ],
      "execution_count": 0,
      "outputs": []
    },
    {
      "cell_type": "markdown",
      "metadata": {
        "id": "BCXSGUw9sIyo",
        "colab_type": "text"
      },
      "source": [
        "##*Downloading* Pretrained Models"
      ]
    },
    {
      "cell_type": "code",
      "metadata": {
        "id": "8yS7Lj3zsIEY",
        "colab_type": "code",
        "outputId": "cf5a1f35-729d-49f7-8c89-c26d5413385e",
        "colab": {
          "base_uri": "https://localhost:8080/",
          "height": 103,
          "referenced_widgets": [
            "77df5982d7a348a5ab90ea75ae725f7f",
            "dc029182470740b0a9df49c5287706c6",
            "28dba89cdffa4d9aa326455e53b29781",
            "0378a6de90b349ef8a3f2cacb4ae0c65",
            "fcfcaf21a4624c91a9731614d675cf83",
            "7cd7251d9fb34a63a31d38b58cf3aa0a",
            "a1bb8ac270a148099d3359fbb9c48559",
            "b3d396adbe6e4b2ab171b55995b80ea5"
          ]
        }
      },
      "source": [
        "resnet18 = models.resnet18(pretrained=True) # pretrained model"
      ],
      "execution_count": 24,
      "outputs": [
        {
          "output_type": "stream",
          "text": [
            "Downloading: \"https://download.pytorch.org/models/resnet18-5c106cde.pth\" to /root/.cache/torch/checkpoints/resnet18-5c106cde.pth\n"
          ],
          "name": "stderr"
        },
        {
          "output_type": "display_data",
          "data": {
            "application/vnd.jupyter.widget-view+json": {
              "model_id": "77df5982d7a348a5ab90ea75ae725f7f",
              "version_minor": 0,
              "version_major": 2
            },
            "text/plain": [
              "HBox(children=(IntProgress(value=0, max=46827520), HTML(value='')))"
            ]
          },
          "metadata": {
            "tags": []
          }
        },
        {
          "output_type": "stream",
          "text": [
            "\n"
          ],
          "name": "stdout"
        }
      ]
    },
    {
      "cell_type": "code",
      "metadata": {
        "id": "BqBVuk32AFJL",
        "colab_type": "code",
        "outputId": "28f485ed-0ec0-42a2-c13f-bb475de5ded3",
        "colab": {
          "base_uri": "https://localhost:8080/",
          "height": 103,
          "referenced_widgets": [
            "f63d746588e3420992a7ddc1fdc09b39",
            "9fed239db19845789538698c81a7d136",
            "b60acac7fee64416aaee604819d85fca",
            "8f90f69fc43a4bdba10f615c105a3f43",
            "dd5159c3fe9c477b96eae0ab0c6476e1",
            "44c9b6e51acd40a980b2adc7fffd67e2",
            "6af55be682494e04929e964eb18ecb28",
            "275f0aa37435498598f6c84ad4b12e52"
          ]
        }
      },
      "source": [
        "vgg16 = models.vgg16(pretrained = True)"
      ],
      "execution_count": 8,
      "outputs": [
        {
          "output_type": "stream",
          "text": [
            "Downloading: \"https://download.pytorch.org/models/vgg16-397923af.pth\" to /root/.cache/torch/checkpoints/vgg16-397923af.pth\n"
          ],
          "name": "stderr"
        },
        {
          "output_type": "display_data",
          "data": {
            "application/vnd.jupyter.widget-view+json": {
              "model_id": "f63d746588e3420992a7ddc1fdc09b39",
              "version_minor": 0,
              "version_major": 2
            },
            "text/plain": [
              "HBox(children=(IntProgress(value=0, max=553433881), HTML(value='')))"
            ]
          },
          "metadata": {
            "tags": []
          }
        },
        {
          "output_type": "stream",
          "text": [
            "\n"
          ],
          "name": "stdout"
        }
      ]
    },
    {
      "cell_type": "markdown",
      "metadata": {
        "id": "uBNvnVHPEd4t",
        "colab_type": "text"
      },
      "source": [
        "## Resnet Task 1\n"
      ]
    },
    {
      "cell_type": "markdown",
      "metadata": {
        "id": "7vj9ydlWs0m8",
        "colab_type": "text"
      },
      "source": [
        "##### Define FC layers"
      ]
    },
    {
      "cell_type": "code",
      "metadata": {
        "id": "lsA4D0R3sx5_",
        "colab_type": "code",
        "colab": {}
      },
      "source": [
        "#now fine tunning (Last 2 digits of your roll number x 10) + 100\n",
        "# (64 *10)+100 model saved with these values\n",
        "# remove last pretrained feature\n",
        "num_features = resnet18.fc.in_features\n",
        "features = list(resnet18.fc.children())[:-1]\n",
        "\n",
        "num_hidden = 256\n",
        "# features.extend([nn.Linear(num_features, num_hidden) , nn.Linear(num_hidden, len(class_names))])\n",
        "\n",
        "features.extend([nn.Linear(num_features, num_hidden),\n",
        "                    nn.ReLU(), \n",
        "                    nn.Dropout(0.3),\n",
        "                    nn.BatchNorm1d(num_hidden),\n",
        "                    nn.Linear(num_hidden, len(class_names))])\n",
        "\n",
        "resnet18.fc = nn.Sequential(*features)\n",
        "# print(resnet18)"
      ],
      "execution_count": 0,
      "outputs": []
    },
    {
      "cell_type": "markdown",
      "metadata": {
        "id": "SIOApUQFgkoG",
        "colab_type": "text"
      },
      "source": [
        "##### Task-01 with CrossEntropy **Binary** Loss"
      ]
    },
    {
      "cell_type": "code",
      "metadata": {
        "id": "lANLh_KKdzAN",
        "colab_type": "code",
        "outputId": "9fdc867a-b0d4-4231-acd1-e77501a31d38",
        "colab": {
          "base_uri": "https://localhost:8080/",
          "height": 926,
          "referenced_widgets": [
            "b0d953c23d7c4d0386e07f66a3503ba5",
            "41a55fd391f14bf8b10ab432258c361b",
            "20592c3999224c6081a6f6a2a35df927",
            "8d6cac7288194fb3bc823ce991e948a2",
            "20db1cef73284f15a57bfe933359391b",
            "36fb83d48dc84954b1f9b59b25473c33",
            "d7be761f1d1e40e5a4c6b4cf183e3620",
            "78e4d15d810a4fdc9e6ed9777bc24e42",
            "acf1676237664327837414b317b6d1fd",
            "fabdfe085aae49a0ad812ed9e8afff16",
            "a8fc29d59918468aaf50572f909c69b1",
            "e94cf0e3415e4b2eb91c3b67761e0ba1",
            "17f0f6a9542f428aa324a9cf02de4203",
            "3ac27a6bba7b4cd79023ab19cd8bd7b1",
            "2718d4378b1546ce995e50a51d6d6281",
            "31d122d6ffeb498d9ab758ac49d5f144"
          ]
        }
      },
      "source": [
        "device = torch.device(\"cuda:0\" if torch.cuda.is_available() else \"cpu\")  # check for GPU avaliable\n",
        "print(device)\n",
        "epcohs = 2\n",
        "model_path = '/content/drive/My Drive/DL-05/part-02'\n",
        "# calling function \n",
        "model_training(resnet18 , \\\n",
        "               trainloader,\\\n",
        "               valloader,\\\n",
        "               Epochs = epcohs ,\\\n",
        "               model_save_path = model_path+'/resnet18_woo_focal.pth', \\\n",
        "               learning_rate = 0.001 )"
      ],
      "execution_count": 125,
      "outputs": [
        {
          "output_type": "stream",
          "text": [
            "cuda:0\n",
            "loading\n"
          ],
          "name": "stdout"
        },
        {
          "output_type": "display_data",
          "data": {
            "application/vnd.jupyter.widget-view+json": {
              "model_id": "b0d953c23d7c4d0386e07f66a3503ba5",
              "version_minor": 0,
              "version_major": 2
            },
            "text/plain": [
              "HBox(children=(IntProgress(value=1, bar_style='info', max=1), HTML(value='')))"
            ]
          },
          "metadata": {
            "tags": []
          }
        },
        {
          "output_type": "stream",
          "text": [
            "************* Epoch: 0 ***************\n",
            "\n",
            "\n",
            "loss :  0.10438498410467918 accuracy: 93.70967741935483\n",
            "validation started....\n",
            "\n",
            "loss :  0.11098123182143484 accuracy: 94.26751592356688\n"
          ],
          "name": "stdout"
        },
        {
          "output_type": "display_data",
          "data": {
            "application/vnd.jupyter.widget-view+json": {
              "model_id": "acf1676237664327837414b317b6d1fd",
              "version_minor": 0,
              "version_major": 2
            },
            "text/plain": [
              "HBox(children=(IntProgress(value=1, bar_style='info', max=1), HTML(value='')))"
            ]
          },
          "metadata": {
            "tags": []
          }
        },
        {
          "output_type": "stream",
          "text": [
            "************* Epoch: 1 ***************\n",
            "\n",
            "\n",
            "loss :  0.09336035763128446 accuracy: 94.08064516129032\n",
            "validation started....\n",
            "\n",
            "loss :  0.13706880834485805 accuracy: 94.10828025477707\n",
            "Finished Training\n"
          ],
          "name": "stdout"
        },
        {
          "output_type": "display_data",
          "data": {
            "image/png": "[encoded data removed]",
            "text/plain": [
              "<Figure size 432x288 with 1 Axes>"
            ]
          },
          "metadata": {
            "tags": [],
            "needs_background": "light"
          }
        },
        {
          "output_type": "display_data",
          "data": {
            "image/png": "[encoded data removed]",
            "text/plain": [
              "<Figure size 432x288 with 1 Axes>"
            ]
          },
          "metadata": {
            "tags": [],
            "needs_background": "light"
          }
        }
      ]
    },
    {
      "cell_type": "markdown",
      "metadata": {
        "id": "7a6mMurogYO3",
        "colab_type": "text"
      },
      "source": [
        "##### Task-02 with Focal Loss"
      ]
    },
    {
      "cell_type": "code",
      "metadata": {
        "id": "mN4bVgD3QK54",
        "colab_type": "code",
        "colab": {
          "base_uri": "https://localhost:8080/",
          "height": 1000,
          "referenced_widgets": [
            "b541fd80ed094c88bdfc753ede1c561f",
            "2edf91e62ba24149b9926377884fe6b3",
            "70759b5324df4052a9b686588694e705",
            "610e24c0bbf24c5aba58e3f3c9bf818b",
            "d679df4cf3cb4c9ebe223fd482047914",
            "7b0b169fed924cdd9c214aed53dc9fd0",
            "0512f4ca1d834a159af1b11023c90ff0",
            "3f2d5e505f654995af6240ed43363cf5",
            "4ddb89235fc94e409d8177c2a26520cd",
            "2669fbb600a94c48ba127d200e0088a1",
            "b88ba7c6b0a64cd1ae5b31c4084976a6",
            "85303228aaac4f649a19843bef2c0b87",
            "ef414bc905ab46e88e1ea9391320807b",
            "7c0a163adf154feaab7caeed897f7cc5",
            "48e475b4935f4ca0945c69b2857aaa34",
            "a1526512ef254de89c195a10105567ad",
            "57b413c672b945d0a8b92424a8127fa6",
            "ca0a1205b4fa44728f9c924d87e0d530",
            "c74e2d2a76ea4b3ab92f882e7f487611",
            "39eb716e6a6c477e805d499298d0aff6",
            "ee95370e98a74de1b06b9521029b40c2",
            "7b0ed7ef94ec41cc8eec64d82682c0ac",
            "3bc0ac2e6d474a6d80d9da19a06898c9",
            "e56be4d25fe549ed862a02e877ec037e"
          ]
        },
        "outputId": "64120606-2a90-4e8d-91e2-02c7c7f9497e"
      },
      "source": [
        "device = torch.device(\"cuda:0\" if torch.cuda.is_available() else \"cpu\")  # check for GPU avaliable\n",
        "print(device)\n",
        "epcohs = 3\n",
        "model_path = '/content/drive/My Drive/DL-05/part-02/'\n",
        "# calling function \n",
        "model_training(resnet18 , \\\n",
        "               trainloader,\\\n",
        "               valloader,\\\n",
        "               Epochs = epcohs ,\\\n",
        "               model_save_path = model_path+'/resnet18_focal4.pth', \\\n",
        "               learning_rate = 0.001,\\\n",
        "               alpha = 0.3,\n",
        "               gamma =1.5,\n",
        "               focal_loss = True)"
      ],
      "execution_count": 51,
      "outputs": [
        {
          "output_type": "stream",
          "text": [
            "cuda:0\n",
            "loading\n"
          ],
          "name": "stdout"
        },
        {
          "output_type": "display_data",
          "data": {
            "application/vnd.jupyter.widget-view+json": {
              "model_id": "b541fd80ed094c88bdfc753ede1c561f",
              "version_minor": 0,
              "version_major": 2
            },
            "text/plain": [
              "HBox(children=(IntProgress(value=1, bar_style='info', max=1), HTML(value='')))"
            ]
          },
          "metadata": {
            "tags": []
          }
        },
        {
          "output_type": "stream",
          "text": [
            "************* Epoch: 0 ***************\n",
            "\n",
            "\n",
            "loss :  0.014671263383486522 accuracy: 91.93548387096774\n",
            "validation started....\n",
            "\n",
            "loss :  0.014715977944433689 accuracy: 93.78980891719745\n"
          ],
          "name": "stdout"
        },
        {
          "output_type": "display_data",
          "data": {
            "application/vnd.jupyter.widget-view+json": {
              "model_id": "4ddb89235fc94e409d8177c2a26520cd",
              "version_minor": 0,
              "version_major": 2
            },
            "text/plain": [
              "HBox(children=(IntProgress(value=1, bar_style='info', max=1), HTML(value='')))"
            ]
          },
          "metadata": {
            "tags": []
          }
        },
        {
          "output_type": "stream",
          "text": [
            "************* Epoch: 1 ***************\n",
            "\n",
            "\n",
            "loss :  0.014816846644792419 accuracy: 91.80645161290323\n",
            "validation started....\n",
            "\n",
            "loss :  0.016229286656848023 accuracy: 93.78980891719745\n"
          ],
          "name": "stdout"
        },
        {
          "output_type": "display_data",
          "data": {
            "application/vnd.jupyter.widget-view+json": {
              "model_id": "57b413c672b945d0a8b92424a8127fa6",
              "version_minor": 0,
              "version_major": 2
            },
            "text/plain": [
              "HBox(children=(IntProgress(value=1, bar_style='info', max=1), HTML(value='')))"
            ]
          },
          "metadata": {
            "tags": []
          }
        },
        {
          "output_type": "stream",
          "text": [
            "************* Epoch: 2 ***************\n",
            "\n",
            "\n",
            "loss :  0.014878820341366988 accuracy: 91.93548387096774\n",
            "validation started....\n",
            "\n",
            "loss :  0.013804183541131871 accuracy: 92.99363057324841\n",
            "Finished Training\n"
          ],
          "name": "stdout"
        },
        {
          "output_type": "display_data",
          "data": {
            "image/png": "[encoded data removed]",
            "text/plain": [
              "<Figure size 432x288 with 1 Axes>"
            ]
          },
          "metadata": {
            "tags": [],
            "needs_background": "light"
          }
        },
        {
          "output_type": "display_data",
          "data": {
            "image/png": "[encoded data removed]",
            "text/plain": [
              "<Figure size 432x288 with 1 Axes>"
            ]
          },
          "metadata": {
            "tags": [],
            "needs_background": "light"
          }
        }
      ]
    },
    {
      "cell_type": "code",
      "metadata": {
        "id": "S89ps35Kh8cB",
        "colab_type": "code",
        "colab": {
          "base_uri": "https://localhost:8080/",
          "height": 775,
          "referenced_widgets": [
            "8fd80dec1b08435fab41fccb5e52976c",
            "e12c0683cf1542278914291419ff270d",
            "4f7467a33221490f838695c0c8da403a",
            "d4f8ab6ae4a1499881f357319a5dba83",
            "9d76484b37ff4c29887293224765e9ef",
            "045cc7c4217246beba05ac9d56e12f94",
            "2cdb6cc98e0e468ca1b74cbec453e465",
            "d9ba7f46276e4f40b6d0f281b788ecdc"
          ]
        },
        "outputId": "25c0a5db-a776-4523-e716-6b6f89b65fdb"
      },
      "source": [
        "device = torch.device(\"cuda:0\" if torch.cuda.is_available() else \"cpu\")  # check for GPU avaliable\n",
        "print(device)\n",
        "epcohs = 1\n",
        "model_path = '/content/drive/My Drive/DL-05/part-02/'\n",
        "# calling function \n",
        "model_training(resnet18 , \\\n",
        "               trainloader,\\\n",
        "               valloader,\\\n",
        "               Epochs = epcohs ,\\\n",
        "               model_save_path = model_path+'/resnet18_focal3.pth', \\\n",
        "               learning_rate = 0.001,\\\n",
        "               alpha = 0.3,\n",
        "               gamma =2,\n",
        "               focal_loss = True)"
      ],
      "execution_count": 93,
      "outputs": [
        {
          "output_type": "stream",
          "text": [
            "cuda:0\n",
            "loading\n"
          ],
          "name": "stdout"
        },
        {
          "output_type": "display_data",
          "data": {
            "application/vnd.jupyter.widget-view+json": {
              "model_id": "8fd80dec1b08435fab41fccb5e52976c",
              "version_minor": 0,
              "version_major": 2
            },
            "text/plain": [
              "HBox(children=(IntProgress(value=1, bar_style='info', max=1), HTML(value='')))"
            ]
          },
          "metadata": {
            "tags": []
          }
        },
        {
          "output_type": "stream",
          "text": [
            "************* Epoch: 0 ***************\n",
            "\n",
            "\n",
            "loss :  0.009360000329951827 accuracy: 92.93548387096774\n",
            "validation started....\n",
            "\n",
            "loss :  0.01556812007246273 accuracy: 93.63057324840764\n",
            "Finished Training\n"
          ],
          "name": "stdout"
        },
        {
          "output_type": "display_data",
          "data": {
            "image/png": "[encoded data removed]",
            "text/plain": [
              "<Figure size 432x288 with 1 Axes>"
            ]
          },
          "metadata": {
            "tags": [],
            "needs_background": "light"
          }
        },
        {
          "output_type": "display_data",
          "data": {
            "image/png": "[encoded data removed]",
            "text/plain": [
              "<Figure size 432x288 with 1 Axes>"
            ]
          },
          "metadata": {
            "tags": [],
            "needs_background": "light"
          }
        }
      ]
    },
    {
      "cell_type": "code",
      "metadata": {
        "id": "vFDQjhZwhJs2",
        "colab_type": "code",
        "outputId": "f1861d65-eb2f-4bc1-91af-e7b9f8ab6e68",
        "colab": {
          "base_uri": "https://localhost:8080/",
          "height": 34
        }
      },
      "source": [
        "# Best Accuracies saved on epochs\n",
        "# '/resnet18_focal1.pth' 10 epochs 93 max\n",
        "# /vgg16_focal 15 epochs max 88\n",
        "# /vgg16_focal1.pth' 30 epochs max 90\n",
        "\n",
        "#Just loading already saved model\n",
        "\n",
        "model_path = '/content/drive/My Drive/DL-05/part-02/resnet18_focal4.pth'\n",
        "print(\"loading\")\n",
        "com_model = torch.load(model_path)\n",
        "resnet18.load_state_dict(com_model['model'])\n",
        "\n",
        "total_valid_loss = com_model['total_valid_loss']\n",
        "total_train_loss = com_model['total_train_loss']\n",
        "total_valid_accuracy = com_model['total_valid_accuracy']\n",
        "total_train_accuracy = com_model['total_train_accuracy']"
      ],
      "execution_count": 0,
      "outputs": [
        {
          "output_type": "stream",
          "text": [
            "loading\n"
          ],
          "name": "stdout"
        }
      ]
    },
    {
      "cell_type": "code",
      "metadata": {
        "id": "pclEcjPCYtn_",
        "colab_type": "code",
        "colab": {}
      },
      "source": [
        "predication  = compute_csv_test(resnet18 , testloader)"
      ],
      "execution_count": 0,
      "outputs": []
    },
    {
      "cell_type": "code",
      "metadata": {
        "id": "RppOCLt0aBDI",
        "colab_type": "code",
        "colab": {}
      },
      "source": [
        "image_names = []\n",
        "for i in range(len(test_data)):\n",
        "    image_names.append(testloader.dataset.samples[i][0].split('/')[-1].split('.')[0])"
      ],
      "execution_count": 0,
      "outputs": []
    },
    {
      "cell_type": "code",
      "metadata": {
        "id": "vqTjZiq6ag6A",
        "colab_type": "code",
        "colab": {}
      },
      "source": [
        "# image_names"
      ],
      "execution_count": 0,
      "outputs": []
    },
    {
      "cell_type": "code",
      "metadata": {
        "id": "hwfc8E0iZUiN",
        "colab_type": "code",
        "colab": {}
      },
      "source": [
        "predication = np.array([np.array(xi) for xi in predication])\n",
        "predication = np.vstack(predication)\n",
        "\n",
        "df = pd.DataFrame(predication)\n",
        "df[3] = image_names\n",
        "df = df[[3, 0, 1, 2]]\n",
        "df.to_csv('sample1.csv',index=False , header=False)"
      ],
      "execution_count": 0,
      "outputs": []
    },
    {
      "cell_type": "code",
      "metadata": {
        "id": "4ZXMT6h9cEET",
        "colab_type": "code",
        "colab": {}
      },
      "source": [
        "# df[200:250]"
      ],
      "execution_count": 0,
      "outputs": []
    },
    {
      "cell_type": "code",
      "metadata": {
        "id": "Bq8BUdBeiXwR",
        "colab_type": "code",
        "colab": {}
      },
      "source": [
        "device = torch.device(\"cuda:0\" if torch.cuda.is_available() else \"cpu\")  # check for GPU avaliable"
      ],
      "execution_count": 0,
      "outputs": []
    },
    {
      "cell_type": "markdown",
      "metadata": {
        "id": "35g0n5TlhXfE",
        "colab_type": "text"
      },
      "source": [
        "##### Focal Loss"
      ]
    },
    {
      "cell_type": "code",
      "metadata": {
        "id": "0eqsm8TQkXp2",
        "colab_type": "code",
        "outputId": "5e0f5ef7-e4ca-4297-f779-de078ced69a9",
        "colab": {
          "base_uri": "https://localhost:8080/",
          "height": 34
        }
      },
      "source": [
        "model_path = '/content/drive/My Drive/DL-05/part-02/resnet18_focal4.pth'\n",
        "print(\"loading\")\n",
        "com_model = torch.load(model_path)\n",
        "resnet18.load_state_dict(com_model['model'])\n",
        "\n",
        "total_valid_loss = com_model['total_valid_loss']\n",
        "total_train_loss = com_model['total_train_loss']\n",
        "total_valid_accuracy = com_model['total_valid_accuracy']\n",
        "total_train_acuracy = com_model['total_train_accuracy']"
      ],
      "execution_count": 131,
      "outputs": [
        {
          "output_type": "stream",
          "text": [
            "loading\n"
          ],
          "name": "stdout"
        }
      ]
    },
    {
      "cell_type": "code",
      "metadata": {
        "id": "lJFdIQOifxgi",
        "colab_type": "code",
        "outputId": "49fea0f3-72d5-4ebb-ae35-71d47e96b7d9",
        "colab": {
          "base_uri": "https://localhost:8080/",
          "height": 187
        }
      },
      "source": [
        "label_list , pred_list = compute_accuracy_test(resnet18,valloader)\n",
        "print(conf_matrix(label_list , pred_list))"
      ],
      "execution_count": 0,
      "outputs": [
        {
          "output_type": "stream",
          "text": [
            "0.9394904458598726\n",
            "hamming loss: 0.042993630573248405\n",
            "[[[598   2]\n",
            "  [  9  19]]\n",
            "\n",
            " [[209  19]\n",
            "  [ 16 384]]\n",
            "\n",
            " [[384  16]\n",
            "  [ 19 209]]]\n"
          ],
          "name": "stdout"
        }
      ]
    },
    {
      "cell_type": "code",
      "metadata": {
        "id": "hqKmgMsDts1c",
        "colab_type": "code",
        "colab": {
          "base_uri": "https://localhost:8080/",
          "height": 204
        },
        "outputId": "f21db415-4c39-470a-8536-51e43a1aa1e5"
      },
      "source": [
        "label_list , pred_list = compute_accuracy_test(resnet18,trainloader)\n",
        "print(conf_matrix(label_list , pred_list))"
      ],
      "execution_count": 132,
      "outputs": [
        {
          "output_type": "stream",
          "text": [
            "Accuracy of the network on test images: 92.35483870967742\n",
            "hamming loss: 0.047688172043010756\n",
            "f1_score: 0.9324205365918905\n",
            "[[[5979   98]\n",
            "  [  21  102]]\n",
            "\n",
            " [[1958  143]\n",
            "  [ 242 3857]]\n",
            "\n",
            " [[3859  242]\n",
            "  [ 141 1958]]]\n"
          ],
          "name": "stdout"
        }
      ]
    },
    {
      "cell_type": "markdown",
      "metadata": {
        "id": "8wpNSsishKkc",
        "colab_type": "text"
      },
      "source": [
        "##### Without Focal Loss"
      ]
    },
    {
      "cell_type": "code",
      "metadata": {
        "id": "7y6fvsFGfggX",
        "colab_type": "code",
        "colab": {
          "base_uri": "https://localhost:8080/",
          "height": 34
        },
        "outputId": "47d700d7-47e4-4ac9-b7c0-fcae77673c93"
      },
      "source": [
        "model_path = '/content/drive/My Drive/DL-05/part-02/resnet18_woo_focal.pth'\n",
        "print(\"loading\")\n",
        "com_model = torch.load(model_path)\n",
        "resnet18.load_state_dict(com_model['model'])\n",
        "\n",
        "total_valid_loss = com_model['total_valid_loss']\n",
        "total_train_loss = com_model['total_train_loss']\n",
        "total_valid_accuracy = com_model['total_valid_accuracy']\n",
        "total_train_acuracy = com_model['total_train_accuracy']"
      ],
      "execution_count": 115,
      "outputs": [
        {
          "output_type": "stream",
          "text": [
            "loading\n"
          ],
          "name": "stdout"
        }
      ]
    },
    {
      "cell_type": "code",
      "metadata": {
        "id": "CtfkqwvxO3Jt",
        "colab_type": "code",
        "colab": {
          "base_uri": "https://localhost:8080/",
          "height": 204
        },
        "outputId": "64cf39ed-94ac-4279-97d1-9cdb65e6416a"
      },
      "source": [
        "label_list , pred_list = compute_accuracy_test(resnet18,valloader)\n",
        "print(conf_matrix(label_list , pred_list))"
      ],
      "execution_count": 129,
      "outputs": [
        {
          "output_type": "stream",
          "text": [
            "Accuracy of the network on test images: 94.10828025477707\n",
            "hamming loss: 0.042993630573248405\n",
            "f1_score: 0.9397798199924443\n",
            "[[[600  11]\n",
            "  [  0  17]]\n",
            "\n",
            " [[202   9]\n",
            "  [ 26 391]]\n",
            "\n",
            " [[391  26]\n",
            "  [  9 202]]]\n"
          ],
          "name": "stdout"
        }
      ]
    },
    {
      "cell_type": "code",
      "metadata": {
        "id": "JpQzzNfBNdx4",
        "colab_type": "code",
        "colab": {}
      },
      "source": [
        "label_list , pred_list = compute_accuracy_test(renset18,trainloader)\n",
        "print(conf_matrix(label_list , pred_list))"
      ],
      "execution_count": 0,
      "outputs": []
    },
    {
      "cell_type": "markdown",
      "metadata": {
        "id": "joUtgxebimEt",
        "colab_type": "text"
      },
      "source": [
        "## VGG16 *Task1*"
      ]
    },
    {
      "cell_type": "code",
      "metadata": {
        "id": "euHdlYSTkpLH",
        "colab_type": "code",
        "outputId": "c44c90d9-a182-465e-ea7b-aa9348e855cb",
        "colab": {
          "base_uri": "https://localhost:8080/",
          "height": 887
        }
      },
      "source": [
        "# download pretrained using torch vision\n",
        "vgg16 = models.vgg16(pretrained = True)\n",
        "# Make parametrs update False\n",
        "for param in vgg16.features.parameters():\n",
        "    param.requires_grad = True\n",
        "    # if param\n",
        "\n",
        "# remove last layer of model and count number of parametrs\n",
        "num_features = vgg16.classifier[-1].in_features\n",
        "features = list(vgg16.classifier.children())[:-1]\n",
        "print(features)\n",
        "\n",
        "\n",
        "\n",
        "# num_hidden1 = 1024\n",
        "# features.extend([nn.Linear(num_features, num_hidden1),\n",
        "#                     nn.ReLU( inplace=True ),\n",
        "#                     nn.Dropout( p=0.5, inplace=False ),\n",
        "#                     nn.Linear(num_hidden1, len(class_names))])\n",
        "\n",
        "# features.extend([nn.Linear(num_features, num_hidden1),\n",
        "#                     nn.ReLU(), \n",
        "#                     nn.Dropout(0.3),\n",
        "#                     nn.BatchNorm1d(num_hidden1),\n",
        "#                     nn.Linear(num_hidden1, len(class_names))])\n",
        "\n",
        "\n",
        "\n",
        "# num_hidden1 = 1024\n",
        "# num_hidden2 = 256\n",
        "\n",
        "# features.extend([nn.Linear(num_features, num_hidden1),\n",
        "#                     nn.ReLU( inplace=True ),\n",
        "#                     nn.Dropout( p=0.5, inplace=False ),\n",
        "#                     nn.Linear(num_hidden1, num_hidden2),\n",
        "#                     nn.ReLU( inplace=True ),\n",
        "#                     nn.Linear(num_hidden2, len(class_names))\n",
        "#                  ])\n",
        "num_hidden1 = 2000\n",
        "num_hidden2 = 800\n",
        "# features.extend([nn.Linear(num_features, num_hidden1),\n",
        "#                     nn.Linear(num_hidden1, num_hidden2),\n",
        "#                     nn.Linear(num_hidden2, len(class_names))])\n",
        "\n",
        "features.extend([nn.Linear(num_features, num_hidden1),\n",
        "                    nn.ReLU(), \n",
        "                    nn.Dropout(0.3),\n",
        "                    nn.BatchNorm1d(num_hidden1),\n",
        "                    nn.Linear(num_hidden1, len(class_names))])\n",
        "\n",
        "#now add our own feature into Model\n",
        "vgg16.classifier = nn.Sequential(*features)\n",
        "print(vgg16)"
      ],
      "execution_count": 11,
      "outputs": [
        {
          "output_type": "stream",
          "text": [
            "[Linear(in_features=25088, out_features=4096, bias=True), ReLU(inplace=True), Dropout(p=0.5, inplace=False), Linear(in_features=4096, out_features=4096, bias=True), ReLU(inplace=True), Dropout(p=0.5, inplace=False)]\n",
            "VGG(\n",
            "  (features): Sequential(\n",
            "    (0): Conv2d(3, 64, kernel_size=(3, 3), stride=(1, 1), padding=(1, 1))\n",
            "    (1): ReLU(inplace=True)\n",
            "    (2): Conv2d(64, 64, kernel_size=(3, 3), stride=(1, 1), padding=(1, 1))\n",
            "    (3): ReLU(inplace=True)\n",
            "    (4): MaxPool2d(kernel_size=2, stride=2, padding=0, dilation=1, ceil_mode=False)\n",
            "    (5): Conv2d(64, 128, kernel_size=(3, 3), stride=(1, 1), padding=(1, 1))\n",
            "    (6): ReLU(inplace=True)\n",
            "    (7): Conv2d(128, 128, kernel_size=(3, 3), stride=(1, 1), padding=(1, 1))\n",
            "    (8): ReLU(inplace=True)\n",
            "    (9): MaxPool2d(kernel_size=2, stride=2, padding=0, dilation=1, ceil_mode=False)\n",
            "    (10): Conv2d(128, 256, kernel_size=(3, 3), stride=(1, 1), padding=(1, 1))\n",
            "    (11): ReLU(inplace=True)\n",
            "    (12): Conv2d(256, 256, kernel_size=(3, 3), stride=(1, 1), padding=(1, 1))\n",
            "    (13): ReLU(inplace=True)\n",
            "    (14): Conv2d(256, 256, kernel_size=(3, 3), stride=(1, 1), padding=(1, 1))\n",
            "    (15): ReLU(inplace=True)\n",
            "    (16): MaxPool2d(kernel_size=2, stride=2, padding=0, dilation=1, ceil_mode=False)\n",
            "    (17): Conv2d(256, 512, kernel_size=(3, 3), stride=(1, 1), padding=(1, 1))\n",
            "    (18): ReLU(inplace=True)\n",
            "    (19): Conv2d(512, 512, kernel_size=(3, 3), stride=(1, 1), padding=(1, 1))\n",
            "    (20): ReLU(inplace=True)\n",
            "    (21): Conv2d(512, 512, kernel_size=(3, 3), stride=(1, 1), padding=(1, 1))\n",
            "    (22): ReLU(inplace=True)\n",
            "    (23): MaxPool2d(kernel_size=2, stride=2, padding=0, dilation=1, ceil_mode=False)\n",
            "    (24): Conv2d(512, 512, kernel_size=(3, 3), stride=(1, 1), padding=(1, 1))\n",
            "    (25): ReLU(inplace=True)\n",
            "    (26): Conv2d(512, 512, kernel_size=(3, 3), stride=(1, 1), padding=(1, 1))\n",
            "    (27): ReLU(inplace=True)\n",
            "    (28): Conv2d(512, 512, kernel_size=(3, 3), stride=(1, 1), padding=(1, 1))\n",
            "    (29): ReLU(inplace=True)\n",
            "    (30): MaxPool2d(kernel_size=2, stride=2, padding=0, dilation=1, ceil_mode=False)\n",
            "  )\n",
            "  (avgpool): AdaptiveAvgPool2d(output_size=(7, 7))\n",
            "  (classifier): Sequential(\n",
            "    (0): Linear(in_features=25088, out_features=4096, bias=True)\n",
            "    (1): ReLU(inplace=True)\n",
            "    (2): Dropout(p=0.5, inplace=False)\n",
            "    (3): Linear(in_features=4096, out_features=4096, bias=True)\n",
            "    (4): ReLU(inplace=True)\n",
            "    (5): Dropout(p=0.5, inplace=False)\n",
            "    (6): Linear(in_features=4096, out_features=2000, bias=True)\n",
            "    (7): ReLU()\n",
            "    (8): Dropout(p=0.3, inplace=False)\n",
            "    (9): BatchNorm1d(2000, eps=1e-05, momentum=0.1, affine=True, track_running_stats=True)\n",
            "    (10): Linear(in_features=2000, out_features=3, bias=True)\n",
            "  )\n",
            ")\n"
          ],
          "name": "stdout"
        }
      ]
    },
    {
      "cell_type": "code",
      "metadata": {
        "id": "bMbk3HYdvst3",
        "colab_type": "code",
        "outputId": "14ba015a-e01d-4870-c0ed-ec62249ca626",
        "colab": {
          "base_uri": "https://localhost:8080/",
          "height": 1000,
          "referenced_widgets": [
            "6bb0ff59ee3f492e9c3408c88af81ac1",
            "18660f64b06644469bdc60870584d3e8",
            "f23518567bbd4bc283833c95371aa020",
            "6f44f03067dc4d65bb47f3e11db429cc",
            "651f2fc9e7554c6b9a625de7c6bc5363",
            "ecf92bc78ace43a29f690c61e4034e44",
            "8184f6def5114d709dd15f611e4a16a8",
            "ab6669e7109f441c9d8103db1ff96d0f",
            "227934078d8646c8ac31ea488570b241",
            "a79c54e66a384b52ad4bf9cc92dbc27d",
            "4778fce0e6fa4991801cca64eb6a7b74",
            "8210c8c97fdd4ae4bdab1d00bf92020a",
            "001219ce39814df686acd0c7727fa6f1",
            "d80922d320cd455a8a9ab7823d164ce9",
            "d0ac3bccb5b048338b8c23da38968a7a",
            "2d22a5700dab40328845de088824d3f9",
            "b0b60fc76cc64113a8231af3ac7449bf",
            "6aee8d5e7550419fbf5d21f7b6c8f8b1",
            "7c620186abfb4ae5b7455ba3e943bb0e",
            "71df0fecf6604ff19a1ecec1a10dde33",
            "a884f7921b2b4b618b456b5b5d075955",
            "fd87d01a949b4a58b0da4e5f603fad59",
            "304fcebeae804a72b000e35823b08c13",
            "fd038495cfbe4a76b013cbabb7025ef9",
            "532053da3b1443b6823e8de7c8addfa1",
            "ef1e8ec32b9245ceba14a1f1692a2800",
            "220964a3aa9b43aebb87f17d081bacfe",
            "dd9194d4389e4af1a87712940e6152f6",
            "4132064d46894db8bfca4fcdbbcb313b",
            "9b73ade80551473db2ab0ed2c335485a",
            "f62da256d4574fd39b23b8e1368c3866",
            "0d0dd25754fd475eae31056253c0e51a",
            "aa62042fc0ca4ca0b7c77828e2374bec",
            "7bece51248554cf49fc223691d612ecb",
            "1d067436a7764a8c81055a557b3d4377",
            "33e23bdb745e4d77aa23fdee4848607f",
            "16ed582d26a143fea34901107265f58c",
            "575c59455d194d16b4c99ed025befd9b",
            "f060efb3d2b54148a02986958d9dcbf5",
            "209ba50721b54ab484027577ecbfedaf"
          ]
        }
      },
      "source": [
        "device = torch.device(\"cuda:0\" if torch.cuda.is_available() else \"cpu\")  # check for GPU avaliable\n",
        "print(device)\n",
        "epcohs = 5\n",
        "model_path = '/content/drive/My Drive/DL-05/part-02'\n",
        "# calling function \n",
        "model_training(vgg16 , \\\n",
        "               trainloader,\\\n",
        "               valloader,\\\n",
        "               Epochs = epcohs ,\\\n",
        "               model_save_path = model_path+'/vgg16_w1_focal.pth')\n"
      ],
      "execution_count": 0,
      "outputs": [
        {
          "output_type": "stream",
          "text": [
            "cuda:0\n",
            "loading\n"
          ],
          "name": "stdout"
        },
        {
          "output_type": "display_data",
          "data": {
            "application/vnd.jupyter.widget-view+json": {
              "model_id": "6bb0ff59ee3f492e9c3408c88af81ac1",
              "version_minor": 0,
              "version_major": 2
            },
            "text/plain": [
              "HBox(children=(IntProgress(value=1, bar_style='info', max=1), HTML(value='')))"
            ]
          },
          "metadata": {
            "tags": []
          }
        },
        {
          "output_type": "stream",
          "text": [
            "************* Epoch: 0 ***************\n",
            "\n",
            "\n",
            "loss :  0.35052779961663943 accuracy: 78.51612903225806\n",
            "validation started....\n",
            "\n",
            "loss :  0.32515754231384825 accuracy: 83.75796178343948\n"
          ],
          "name": "stdout"
        },
        {
          "output_type": "display_data",
          "data": {
            "application/vnd.jupyter.widget-view+json": {
              "model_id": "227934078d8646c8ac31ea488570b241",
              "version_minor": 0,
              "version_major": 2
            },
            "text/plain": [
              "HBox(children=(IntProgress(value=1, bar_style='info', max=1), HTML(value='')))"
            ]
          },
          "metadata": {
            "tags": []
          }
        },
        {
          "output_type": "stream",
          "text": [
            "************* Epoch: 1 ***************\n",
            "\n",
            "\n",
            "loss :  0.3192747010347935 accuracy: 80.38709677419355\n",
            "validation started....\n",
            "\n",
            "loss :  0.26735952709402355 accuracy: 85.828025477707\n"
          ],
          "name": "stdout"
        },
        {
          "output_type": "display_data",
          "data": {
            "application/vnd.jupyter.widget-view+json": {
              "model_id": "b0b60fc76cc64113a8231af3ac7449bf",
              "version_minor": 0,
              "version_major": 2
            },
            "text/plain": [
              "HBox(children=(IntProgress(value=1, bar_style='info', max=1), HTML(value='')))"
            ]
          },
          "metadata": {
            "tags": []
          }
        },
        {
          "output_type": "stream",
          "text": [
            "************* Epoch: 2 ***************\n",
            "\n",
            "\n",
            "loss :  0.32141192658589435 accuracy: 80.40322580645162\n",
            "validation started....\n",
            "\n",
            "loss :  0.3278088654790606 accuracy: 85.19108280254777\n"
          ],
          "name": "stdout"
        },
        {
          "output_type": "display_data",
          "data": {
            "application/vnd.jupyter.widget-view+json": {
              "model_id": "532053da3b1443b6823e8de7c8addfa1",
              "version_minor": 0,
              "version_major": 2
            },
            "text/plain": [
              "HBox(children=(IntProgress(value=1, bar_style='info', max=1), HTML(value='')))"
            ]
          },
          "metadata": {
            "tags": []
          }
        },
        {
          "output_type": "stream",
          "text": [
            "************* Epoch: 3 ***************\n",
            "\n",
            "\n",
            "loss :  0.30592090937380606 accuracy: 82.12903225806451\n",
            "validation started....\n",
            "\n",
            "loss :  0.24641951279980795 accuracy: 85.50955414012739\n"
          ],
          "name": "stdout"
        },
        {
          "output_type": "display_data",
          "data": {
            "application/vnd.jupyter.widget-view+json": {
              "model_id": "aa62042fc0ca4ca0b7c77828e2374bec",
              "version_minor": 0,
              "version_major": 2
            },
            "text/plain": [
              "HBox(children=(IntProgress(value=1, bar_style='info', max=1), HTML(value='')))"
            ]
          },
          "metadata": {
            "tags": []
          }
        },
        {
          "output_type": "stream",
          "text": [
            "************* Epoch: 4 ***************\n",
            "\n",
            "\n",
            "loss :  0.30340978188010365 accuracy: 81.45161290322581\n",
            "validation started....\n",
            "\n",
            "loss :  0.23167280001299723 accuracy: 87.57961783439491\n",
            "Finished Training\n",
            "20\n"
          ],
          "name": "stdout"
        },
        {
          "output_type": "display_data",
          "data": {
            "image/png": "[encoded data removed]",
            "text/plain": [
              "<Figure size 432x288 with 1 Axes>"
            ]
          },
          "metadata": {
            "tags": [],
            "needs_background": "light"
          }
        },
        {
          "output_type": "display_data",
          "data": {
            "image/png": "[encoded data removed]",
            "text/plain": [
              "<Figure size 432x288 with 1 Axes>"
            ]
          },
          "metadata": {
            "tags": [],
            "needs_background": "light"
          }
        }
      ]
    },
    {
      "cell_type": "code",
      "metadata": {
        "id": "Yj9ibNVPvMf5",
        "colab_type": "code",
        "outputId": "49d9f58c-2f69-479c-88f0-004d14380fa0",
        "colab": {
          "base_uri": "https://localhost:8080/",
          "height": 221
        }
      },
      "source": [
        "label_list , pred_list = compute_accuracy_test(vgg16,valloader)\n",
        "print(conf_matrix(label_list , pred_list))"
      ],
      "execution_count": 0,
      "outputs": [
        {
          "output_type": "stream",
          "text": [
            "Accuracy of the network on test images: 84.23566878980891\n",
            "hamming loss: 0.1173036093418259\n",
            "f1_score: 0.8571109782217985\n",
            "f1_score: 0.902414581764427\n",
            "[[[600  28]\n",
            "  [  0   0]]\n",
            "\n",
            " [[135   4]\n",
            "  [ 93 396]]\n",
            "\n",
            " [[396  92]\n",
            "  [  4 136]]]\n"
          ],
          "name": "stdout"
        }
      ]
    },
    {
      "cell_type": "code",
      "metadata": {
        "id": "NYfP4ERFy0EX",
        "colab_type": "code",
        "outputId": "a893db5c-f05a-4ab2-b26c-8b0e75e6939c",
        "colab": {
          "base_uri": "https://localhost:8080/",
          "height": 204
        }
      },
      "source": [
        "confusion_matrix(actualt,predictiont)"
      ],
      "execution_count": 0,
      "outputs": [
        {
          "output_type": "stream",
          "text": [
            "hamming loss: 0.07908704883227176\n",
            "f1_score: 0.904529697411556\n",
            "f1_score: 0.9071860095389507\n",
            "[[[600  28]\n",
            "  [  0   0]]\n",
            "\n",
            " [[190  22]\n",
            "  [ 38 378]]\n",
            "\n",
            " [[377  38]\n",
            "  [ 23 190]]]\n"
          ],
          "name": "stdout"
        }
      ]
    },
    {
      "cell_type": "code",
      "metadata": {
        "id": "ax2UEnQ7AsRY",
        "colab_type": "code",
        "colab": {}
      },
      "source": [
        "device = torch.device(\"cuda:0\" if torch.cuda.is_available() else \"cpu\")  # check for GPU avaliable\n",
        "print(device)\n",
        "epcohs = 15\n",
        "model_path = '/content/drive/My Drive/DL-05/part-02'\n",
        "# calling function \n",
        "model_training(vgg16 , \\\n",
        "               trainloader,\\\n",
        "               valloader,\\\n",
        "               Epochs = epcohs ,\\\n",
        "               model_save_path = model_path+'/vgg16_focal.pth', \\\n",
        "               learning_rate = 0.001,\\\n",
        "               alpha = 0.3,\n",
        "               gamma = 2,\n",
        "               focal_loss = True)\n",
        "\n",
        "# /vgg16_1_focal.pth\n",
        "# delete max 87 15 epochs  .3 and 1.3\n",
        "# now 1.7 and 0.6"
      ],
      "execution_count": 0,
      "outputs": []
    },
    {
      "cell_type": "markdown",
      "metadata": {
        "id": "P43tqmhFRoYq",
        "colab_type": "text"
      },
      "source": [
        "#### Load Saved Models"
      ]
    },
    {
      "cell_type": "code",
      "metadata": {
        "id": "brq22MMZAqZs",
        "colab_type": "code",
        "colab": {}
      },
      "source": [
        ""
      ],
      "execution_count": 0,
      "outputs": []
    },
    {
      "cell_type": "code",
      "metadata": {
        "id": "-iobjBXiRmoI",
        "colab_type": "code",
        "outputId": "4e4a04df-f3f1-44fd-bbae-6ba8ac03c8e1",
        "colab": {
          "base_uri": "https://localhost:8080/",
          "height": 34
        }
      },
      "source": [
        "model_path = '/content/drive/My Drive/DL-05/part-02/vgg16_focal1.pth'\n",
        "print(\"loading\")\n",
        "com_model = torch.load(model_path)\n",
        "vgg16.load_state_dict(com_model['model'])\n",
        "\n",
        "total_valid_loss = com_model['total_valid_loss']\n",
        "total_train_loss = com_model['total_train_loss']\n",
        "total_valid_accuracy = com_model['total_valid_accuracy']\n",
        "total_train_accuracy = com_model['total_train_accuracy']"
      ],
      "execution_count": 12,
      "outputs": [
        {
          "output_type": "stream",
          "text": [
            "loading\n"
          ],
          "name": "stdout"
        }
      ]
    },
    {
      "cell_type": "code",
      "metadata": {
        "id": "3w-VvgTKNUya",
        "colab_type": "code",
        "outputId": "01a45610-cac7-4509-8370-3f36289ab5cf",
        "colab": {
          "base_uri": "https://localhost:8080/",
          "height": 573
        }
      },
      "source": [
        "train_valid_loss_curve(total_train_loss , total_valid_loss)\n",
        "train_valid_accuracy_curve(total_train_accuracy, total_valid_accuracy)"
      ],
      "execution_count": 16,
      "outputs": [
        {
          "output_type": "display_data",
          "data": {
            "image/png": "[encoded data removed]",
            "text/plain": [
              "<Figure size 432x288 with 1 Axes>"
            ]
          },
          "metadata": {
            "tags": [],
            "needs_background": "light"
          }
        },
        {
          "output_type": "display_data",
          "data": {
            "image/png": "[encoded data removed]",
            "text/plain": [
              "<Figure size 432x288 with 1 Axes>"
            ]
          },
          "metadata": {
            "tags": [],
            "needs_background": "light"
          }
        }
      ]
    },
    {
      "cell_type": "code",
      "metadata": {
        "id": "UNEyNKWOI1uI",
        "colab_type": "code",
        "colab": {
          "base_uri": "https://localhost:8080/",
          "height": 204
        },
        "outputId": "994ac5cd-2b7c-4fb1-fe9f-be2922f45669"
      },
      "source": [
        "label_list , pred_list = compute_accuracy_test(vgg16.cuda(),valloader)\n",
        "print(conf_matrix(label_list , pred_list))"
      ],
      "execution_count": 20,
      "outputs": [
        {
          "output_type": "stream",
          "text": [
            "Accuracy of the network on test images: 87.89808917197452\n",
            "hamming loss: 0.06847133757961783\n",
            "f1_score: 0.9111780509328042\n",
            "[[[591  26]\n",
            "  [  9   2]]\n",
            "\n",
            " [[202  21]\n",
            "  [ 26 379]]\n",
            "\n",
            " [[379  26]\n",
            "  [ 21 202]]]\n"
          ],
          "name": "stdout"
        }
      ]
    },
    {
      "cell_type": "code",
      "metadata": {
        "id": "K53kcJylI_HU",
        "colab_type": "code",
        "colab": {
          "base_uri": "https://localhost:8080/",
          "height": 204
        },
        "outputId": "66ca61e9-93a9-41d4-ed83-c154daead813"
      },
      "source": [
        "label_list , pred_list = compute_accuracy_test(vgg16.cuda(),trainloader)\n",
        "print(conf_matrix(label_list , pred_list))"
      ],
      "execution_count": 22,
      "outputs": [
        {
          "output_type": "stream",
          "text": [
            "Accuracy of the network on test images: 86.83870967741936\n",
            "hamming loss: 0.07688172043010753\n",
            "f1_score: 0.8933476878625976\n",
            "[[[5928  182]\n",
            "  [  72   18]]\n",
            "\n",
            " [[1978  367]\n",
            "  [ 222 3633]]\n",
            "\n",
            " [[3635  222]\n",
            "  [ 365 1978]]]\n"
          ],
          "name": "stdout"
        }
      ]
    },
    {
      "cell_type": "code",
      "metadata": {
        "id": "wt3e3Ua5A9AE",
        "colab_type": "code",
        "colab": {}
      },
      "source": [
        "# array([[[597,   3],\n",
        "#         [ 16,  12]],\n",
        "\n",
        "#        [[195,  33],\n",
        "#         [ 13, 387]],\n",
        "\n",
        "#        [[387,  13],\n",
        "#         [ 33, 195]]])\n",
        "\n",
        "# Sofar best Resnet18 3rd\n",
        "# array([[[598,   2],\n",
        "#         [  9,  19]],\n",
        "\n",
        "#        [[210,  18],\n",
        "#         [ 17, 383]],\n",
        "\n",
        "#        [[384,  16],\n",
        "#         [ 18, 210]]])\n",
        "\n",
        "\n",
        "# 0.93604033970276\n",
        "# [[[599   1]\n",
        "#   [ 10  18]]\n",
        "\n",
        "#  [[205  23]\n",
        "#   [ 17 383]]\n",
        "\n",
        "#  [[383  17]\n",
        "#   [ 23 205]]]\n",
        "\n",
        "\n",
        "\n",
        "# [[[597   3]\n",
        "#   [  7  21]]\n",
        "\n",
        "#  [[201  27]\n",
        "#   [  5 395]]\n",
        "\n",
        "#  [[395   5]\n",
        "#   [ 28 200]]]\n",
        "\n",
        "# Resnet\n",
        "\n",
        "# array([[[596,   4],\n",
        "#         [  8,  20]],\n",
        "\n",
        "#        [[200,  28],\n",
        "#         [  3, 397]],\n",
        "\n",
        "#        [[397,   3],\n",
        "#         [ 28, 200]]])\n",
        "\n",
        "\n"
      ],
      "execution_count": 0,
      "outputs": []
    }
  ]
}